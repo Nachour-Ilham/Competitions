{
 "cells": [
  {
   "cell_type": "markdown",
   "id": "a9383a04-9d5e-4507-8bf0-e132595b9e32",
   "metadata": {},
   "source": [
    "# **DeepTweets Challenge**\n"
   ]
  },
  {
   "cell_type": "markdown",
   "id": "2bfb8eb3-2e71-46be-a3e9-3d11c46eb125",
   "metadata": {},
   "source": [
    "<pre>\n",
    "<font color='blue'>\n",
    "                                                                                Full name: NACHOUR Ilham\n",
    "                                                                                User name:ORCL-DS-APP4038\n",
    "                                                                                Team name:PGX-DS-T4038\n",
    "        \n",
    "</font>\n",
    "</pre>"
   ]
  },
  {
   "cell_type": "markdown",
   "id": "d6454257-b612-4b62-b73e-5207f0b95195",
   "metadata": {},
   "source": [
    "## Importing the Libraries"
   ]
  },
  {
   "cell_type": "code",
   "execution_count": 1,
   "id": "8cbdf02b-0fb7-4cf0-b15c-149c6a9fd8a2",
   "metadata": {},
   "outputs": [],
   "source": [
    "#import required libraries \n",
    "import numpy as np\n",
    "import pandas as pd \n",
    "\n",
    "import matplotlib.pyplot as plt\n",
    "import seaborn as sns\n",
    "\n",
    "import nltk\n",
    "from nltk.corpus import stopwords\n",
    "\n",
    "import re\n",
    "import string\n",
    "\n",
    "from sklearn.model_selection import train_test_split\n",
    "from sklearn.linear_model import LogisticRegression\n",
    "from sklearn.svm import SVC\n",
    "from sklearn.feature_extraction.text import CountVectorizer\n",
    "\n",
    "from sklearn import metrics"
   ]
  },
  {
   "cell_type": "markdown",
   "id": "d20a2b77-a63c-4356-8f03-059974462190",
   "metadata": {},
   "source": [
    "## Loading test and train data"
   ]
  },
  {
   "cell_type": "code",
   "execution_count": 2,
   "id": "8ebe1b96-d432-4b19-8f24-4e727cdd2d32",
   "metadata": {},
   "outputs": [],
   "source": [
    "#read train data\n",
    "train = pd.read_csv('train.csv')\n",
    "#read test data\n",
    "test = pd.read_csv('test.csv')"
   ]
  },
  {
   "cell_type": "markdown",
   "id": "2ec30856-cfd3-4d87-990b-38601df0e3d0",
   "metadata": {},
   "source": [
    "## First look to our data"
   ]
  },
  {
   "cell_type": "code",
   "execution_count": 3,
   "id": "af618198-8a0f-435a-9efb-5cbd5bd1da05",
   "metadata": {},
   "outputs": [
    {
     "name": "stdout",
     "output_type": "stream",
     "text": [
      "----------------------------------------------------train data ---------------------------------------------------------\n"
     ]
    },
    {
     "data": {
      "text/html": [
       "<div>\n",
       "<style scoped>\n",
       "    .dataframe tbody tr th:only-of-type {\n",
       "        vertical-align: middle;\n",
       "    }\n",
       "\n",
       "    .dataframe tbody tr th {\n",
       "        vertical-align: top;\n",
       "    }\n",
       "\n",
       "    .dataframe thead th {\n",
       "        text-align: right;\n",
       "    }\n",
       "</style>\n",
       "<table border=\"1\" class=\"dataframe\">\n",
       "  <thead>\n",
       "    <tr style=\"text-align: right;\">\n",
       "      <th></th>\n",
       "      <th>TweetId</th>\n",
       "      <th>Label</th>\n",
       "      <th>TweetText</th>\n",
       "    </tr>\n",
       "  </thead>\n",
       "  <tbody>\n",
       "    <tr>\n",
       "      <th>0</th>\n",
       "      <td>304271250237304833</td>\n",
       "      <td>Politics</td>\n",
       "      <td>'#SecKerry: The value of the @StateDept and @U...</td>\n",
       "    </tr>\n",
       "    <tr>\n",
       "      <th>1</th>\n",
       "      <td>304834304222064640</td>\n",
       "      <td>Politics</td>\n",
       "      <td>'@rraina1481 I fear so'</td>\n",
       "    </tr>\n",
       "    <tr>\n",
       "      <th>2</th>\n",
       "      <td>303568995880144898</td>\n",
       "      <td>Sports</td>\n",
       "      <td>'Watch video highlights of the #wwc13 final be...</td>\n",
       "    </tr>\n",
       "    <tr>\n",
       "      <th>3</th>\n",
       "      <td>304366580664528896</td>\n",
       "      <td>Sports</td>\n",
       "      <td>'RT @chelscanlan: At Nitro Circus at #AlbertPa...</td>\n",
       "    </tr>\n",
       "    <tr>\n",
       "      <th>4</th>\n",
       "      <td>296770931098009601</td>\n",
       "      <td>Sports</td>\n",
       "      <td>'@cricketfox Always a good thing. Thanks for t...</td>\n",
       "    </tr>\n",
       "  </tbody>\n",
       "</table>\n",
       "</div>"
      ],
      "text/plain": [
       "              TweetId     Label  \\\n",
       "0  304271250237304833  Politics   \n",
       "1  304834304222064640  Politics   \n",
       "2  303568995880144898    Sports   \n",
       "3  304366580664528896    Sports   \n",
       "4  296770931098009601    Sports   \n",
       "\n",
       "                                           TweetText  \n",
       "0  '#SecKerry: The value of the @StateDept and @U...  \n",
       "1                            '@rraina1481 I fear so'  \n",
       "2  'Watch video highlights of the #wwc13 final be...  \n",
       "3  'RT @chelscanlan: At Nitro Circus at #AlbertPa...  \n",
       "4  '@cricketfox Always a good thing. Thanks for t...  "
      ]
     },
     "metadata": {},
     "output_type": "display_data"
    },
    {
     "name": "stdout",
     "output_type": "stream",
     "text": [
      "----------------------------------------------------test data ----------------------------------------------------------\n"
     ]
    },
    {
     "data": {
      "text/html": [
       "<div>\n",
       "<style scoped>\n",
       "    .dataframe tbody tr th:only-of-type {\n",
       "        vertical-align: middle;\n",
       "    }\n",
       "\n",
       "    .dataframe tbody tr th {\n",
       "        vertical-align: top;\n",
       "    }\n",
       "\n",
       "    .dataframe thead th {\n",
       "        text-align: right;\n",
       "    }\n",
       "</style>\n",
       "<table border=\"1\" class=\"dataframe\">\n",
       "  <thead>\n",
       "    <tr style=\"text-align: right;\">\n",
       "      <th></th>\n",
       "      <th>TweetId</th>\n",
       "      <th>TweetText</th>\n",
       "    </tr>\n",
       "  </thead>\n",
       "  <tbody>\n",
       "    <tr>\n",
       "      <th>0</th>\n",
       "      <td>306486520121012224</td>\n",
       "      <td>'28. The home side threaten again through Maso...</td>\n",
       "    </tr>\n",
       "    <tr>\n",
       "      <th>1</th>\n",
       "      <td>286353402605228032</td>\n",
       "      <td>'@mrbrown @aulia Thx for asking. See http://t....</td>\n",
       "    </tr>\n",
       "    <tr>\n",
       "      <th>2</th>\n",
       "      <td>289531046037438464</td>\n",
       "      <td>'@Sochi2014 construction along the shores of t...</td>\n",
       "    </tr>\n",
       "    <tr>\n",
       "      <th>3</th>\n",
       "      <td>306451661403062273</td>\n",
       "      <td>'#SecKerry\\u2019s remarks after meeting with F...</td>\n",
       "    </tr>\n",
       "    <tr>\n",
       "      <th>4</th>\n",
       "      <td>297941800658812928</td>\n",
       "      <td>'The #IPLauction has begun. Ricky Ponting is t...</td>\n",
       "    </tr>\n",
       "  </tbody>\n",
       "</table>\n",
       "</div>"
      ],
      "text/plain": [
       "              TweetId                                          TweetText\n",
       "0  306486520121012224  '28. The home side threaten again through Maso...\n",
       "1  286353402605228032  '@mrbrown @aulia Thx for asking. See http://t....\n",
       "2  289531046037438464  '@Sochi2014 construction along the shores of t...\n",
       "3  306451661403062273  '#SecKerry\\u2019s remarks after meeting with F...\n",
       "4  297941800658812928  'The #IPLauction has begun. Ricky Ponting is t..."
      ]
     },
     "metadata": {},
     "output_type": "display_data"
    }
   ],
   "source": [
    "print('----------------------------------------------------train data ---------------------------------------------------------')\n",
    "display(train.head())\n",
    "print('----------------------------------------------------test data ----------------------------------------------------------')\n",
    "display(test.head())"
   ]
  },
  {
   "cell_type": "markdown",
   "id": "9cbc94b1-b293-4677-acb2-c1d2f8819d85",
   "metadata": {},
   "source": [
    "## Data Exploration"
   ]
  },
  {
   "cell_type": "code",
   "execution_count": 4,
   "id": "56ea0f1d-acf8-47db-9c5c-948f71f29ec5",
   "metadata": {},
   "outputs": [
    {
     "name": "stdout",
     "output_type": "stream",
     "text": [
      "shape train    : (6525, 3)\n",
      "shape test     : (2610, 2)\n"
     ]
    }
   ],
   "source": [
    "#check out the shape of the data\n",
    "print('shape train    : {}'.format(train.shape))\n",
    "print('shape test     : {}'.format(test.shape))"
   ]
  },
  {
   "cell_type": "markdown",
   "id": "2af56026-abb6-4423-abd6-06d2a50cc149",
   "metadata": {},
   "source": [
    "The train set has 6525 rows and 3 features,while test-set has 2610 rows and only 2 features,this is due to,the fact that the test data doesn't include the target column Label."
   ]
  },
  {
   "cell_type": "code",
   "execution_count": 5,
   "id": "b19d5f45-2082-495d-9f1a-46052e9b6c17",
   "metadata": {},
   "outputs": [
    {
     "name": "stdout",
     "output_type": "stream",
     "text": [
      "Number of duplicate rows in train data: 0\n",
      "Number of duplicate rows in test data : 0\n"
     ]
    }
   ],
   "source": [
    "#check if there are duplicated values in train and test data\n",
    "print('Number of duplicate rows in train data:',train.duplicated().sum())\n",
    "print('Number of duplicate rows in test data :',test.duplicated().sum())"
   ]
  },
  {
   "cell_type": "markdown",
   "id": "7f8e3122-32d7-44ad-8b1c-63715538a683",
   "metadata": {},
   "source": [
    "It seems like duplicate rows don't exist in our data."
   ]
  },
  {
   "cell_type": "markdown",
   "id": "5838b7d2-5178-4a3c-80b1-086f0bf09013",
   "metadata": {},
   "source": [
    "let's check if there are some missing values in our data"
   ]
  },
  {
   "cell_type": "code",
   "execution_count": 6,
   "id": "b397c1c6-6a32-4adc-8056-af3dfd4d2b6c",
   "metadata": {},
   "outputs": [
    {
     "name": "stdout",
     "output_type": "stream",
     "text": [
      "The sum of missing values in train data : 0\n",
      "The sum of missing values in test data : 0\n"
     ]
    }
   ],
   "source": [
    "print('The sum of missing values in train data :',sum(train.isnull().sum()))\n",
    "print('The sum of missing values in test data :',sum(test.isnull().sum()))"
   ]
  },
  {
   "cell_type": "code",
   "execution_count": 7,
   "id": "f07ef669-c933-4724-bd49-e8d2ecec20d8",
   "metadata": {},
   "outputs": [
    {
     "name": "stdout",
     "output_type": "stream",
     "text": [
      "<class 'pandas.core.frame.DataFrame'>\n",
      "RangeIndex: 6525 entries, 0 to 6524\n",
      "Data columns (total 3 columns):\n",
      " #   Column     Non-Null Count  Dtype \n",
      "---  ------     --------------  ----- \n",
      " 0   TweetId    6525 non-null   int64 \n",
      " 1   Label      6525 non-null   object\n",
      " 2   TweetText  6525 non-null   object\n",
      "dtypes: int64(1), object(2)\n",
      "memory usage: 153.1+ KB\n"
     ]
    },
    {
     "data": {
      "text/plain": [
       "None"
      ]
     },
     "metadata": {},
     "output_type": "display_data"
    }
   ],
   "source": [
    "display(train.info())"
   ]
  },
  {
   "cell_type": "code",
   "execution_count": 8,
   "id": "75f0d140-2f0c-4d4c-8550-5fcf5d0b3963",
   "metadata": {},
   "outputs": [
    {
     "name": "stdout",
     "output_type": "stream",
     "text": [
      "<class 'pandas.core.frame.DataFrame'>\n",
      "RangeIndex: 2610 entries, 0 to 2609\n",
      "Data columns (total 2 columns):\n",
      " #   Column     Non-Null Count  Dtype \n",
      "---  ------     --------------  ----- \n",
      " 0   TweetId    2610 non-null   int64 \n",
      " 1   TweetText  2610 non-null   object\n",
      "dtypes: int64(1), object(1)\n",
      "memory usage: 40.9+ KB\n"
     ]
    },
    {
     "data": {
      "text/plain": [
       "None"
      ]
     },
     "metadata": {},
     "output_type": "display_data"
    }
   ],
   "source": [
    "display(test.info())"
   ]
  },
  {
   "cell_type": "code",
   "execution_count": 9,
   "id": "d8029bb4-17ad-4686-a6a6-2d2177c30338",
   "metadata": {},
   "outputs": [
    {
     "name": "stdout",
     "output_type": "stream",
     "text": [
      "['Politics' 'Sports']\n"
     ]
    }
   ],
   "source": [
    "#unique values of train and training data\n",
    "print(train['Label'].unique())"
   ]
  },
  {
   "cell_type": "code",
   "execution_count": 10,
   "id": "5f72735d-dd95-4312-806d-44963b23292e",
   "metadata": {},
   "outputs": [
    {
     "data": {
      "text/html": [
       "<div>\n",
       "<style scoped>\n",
       "    .dataframe tbody tr th:only-of-type {\n",
       "        vertical-align: middle;\n",
       "    }\n",
       "\n",
       "    .dataframe tbody tr th {\n",
       "        vertical-align: top;\n",
       "    }\n",
       "\n",
       "    .dataframe thead th {\n",
       "        text-align: right;\n",
       "    }\n",
       "</style>\n",
       "<table border=\"1\" class=\"dataframe\">\n",
       "  <thead>\n",
       "    <tr style=\"text-align: right;\">\n",
       "      <th></th>\n",
       "      <th>TweetId</th>\n",
       "    </tr>\n",
       "  </thead>\n",
       "  <tbody>\n",
       "    <tr>\n",
       "      <th>count</th>\n",
       "      <td>6.525000e+03</td>\n",
       "    </tr>\n",
       "    <tr>\n",
       "      <th>mean</th>\n",
       "      <td>2.887131e+17</td>\n",
       "    </tr>\n",
       "    <tr>\n",
       "      <th>std</th>\n",
       "      <td>5.139819e+16</td>\n",
       "    </tr>\n",
       "    <tr>\n",
       "      <th>min</th>\n",
       "      <td>2.390931e+10</td>\n",
       "    </tr>\n",
       "    <tr>\n",
       "      <th>25%</th>\n",
       "      <td>2.941380e+17</td>\n",
       "    </tr>\n",
       "    <tr>\n",
       "      <th>50%</th>\n",
       "      <td>3.025319e+17</td>\n",
       "    </tr>\n",
       "    <tr>\n",
       "      <th>75%</th>\n",
       "      <td>3.053242e+17</td>\n",
       "    </tr>\n",
       "    <tr>\n",
       "      <th>max</th>\n",
       "      <td>3.068341e+17</td>\n",
       "    </tr>\n",
       "  </tbody>\n",
       "</table>\n",
       "</div>"
      ],
      "text/plain": [
       "            TweetId\n",
       "count  6.525000e+03\n",
       "mean   2.887131e+17\n",
       "std    5.139819e+16\n",
       "min    2.390931e+10\n",
       "25%    2.941380e+17\n",
       "50%    3.025319e+17\n",
       "75%    3.053242e+17\n",
       "max    3.068341e+17"
      ]
     },
     "execution_count": 10,
     "metadata": {},
     "output_type": "execute_result"
    }
   ],
   "source": [
    "#Statistics\n",
    "train.describe()"
   ]
  },
  {
   "cell_type": "code",
   "execution_count": 11,
   "id": "02144532-bd9b-4516-8f10-f6842ef8b34d",
   "metadata": {},
   "outputs": [
    {
     "data": {
      "text/html": [
       "<div>\n",
       "<style scoped>\n",
       "    .dataframe tbody tr th:only-of-type {\n",
       "        vertical-align: middle;\n",
       "    }\n",
       "\n",
       "    .dataframe tbody tr th {\n",
       "        vertical-align: top;\n",
       "    }\n",
       "\n",
       "    .dataframe thead th {\n",
       "        text-align: right;\n",
       "    }\n",
       "</style>\n",
       "<table border=\"1\" class=\"dataframe\">\n",
       "  <thead>\n",
       "    <tr style=\"text-align: right;\">\n",
       "      <th></th>\n",
       "      <th>TweetId</th>\n",
       "    </tr>\n",
       "  </thead>\n",
       "  <tbody>\n",
       "    <tr>\n",
       "      <th>count</th>\n",
       "      <td>2.610000e+03</td>\n",
       "    </tr>\n",
       "    <tr>\n",
       "      <th>mean</th>\n",
       "      <td>2.803202e+17</td>\n",
       "    </tr>\n",
       "    <tr>\n",
       "      <th>std</th>\n",
       "      <td>6.844036e+16</td>\n",
       "    </tr>\n",
       "    <tr>\n",
       "      <th>min</th>\n",
       "      <td>2.320824e+09</td>\n",
       "    </tr>\n",
       "    <tr>\n",
       "      <th>25%</th>\n",
       "      <td>2.941447e+17</td>\n",
       "    </tr>\n",
       "    <tr>\n",
       "      <th>50%</th>\n",
       "      <td>3.017323e+17</td>\n",
       "    </tr>\n",
       "    <tr>\n",
       "      <th>75%</th>\n",
       "      <td>3.056284e+17</td>\n",
       "    </tr>\n",
       "    <tr>\n",
       "      <th>max</th>\n",
       "      <td>3.068337e+17</td>\n",
       "    </tr>\n",
       "  </tbody>\n",
       "</table>\n",
       "</div>"
      ],
      "text/plain": [
       "            TweetId\n",
       "count  2.610000e+03\n",
       "mean   2.803202e+17\n",
       "std    6.844036e+16\n",
       "min    2.320824e+09\n",
       "25%    2.941447e+17\n",
       "50%    3.017323e+17\n",
       "75%    3.056284e+17\n",
       "max    3.068337e+17"
      ]
     },
     "execution_count": 11,
     "metadata": {},
     "output_type": "execute_result"
    }
   ],
   "source": [
    "#Statistics\n",
    "test.describe()"
   ]
  },
  {
   "cell_type": "markdown",
   "id": "b9f6e967-7a2c-4f14-a8c9-3d4f629b5bb1",
   "metadata": {},
   "source": [
    "## Data visualisation"
   ]
  },
  {
   "cell_type": "code",
   "execution_count": 12,
   "id": "8dc299fb-4c25-40bd-b515-00fba01703a3",
   "metadata": {},
   "outputs": [],
   "source": [
    "sns.set(rc={'figure.figsize':(12,6)})"
   ]
  },
  {
   "cell_type": "code",
   "execution_count": 13,
   "id": "204dedc0-9cdb-478c-ae86-94fc117622b2",
   "metadata": {},
   "outputs": [
    {
     "data": {
      "text/plain": [
       "<AxesSubplot: >"
      ]
     },
     "execution_count": 13,
     "metadata": {},
     "output_type": "execute_result"
    },
    {
     "data": {
      "image/png": "[encoded data removed]",
      "text/plain": [
       "<Figure size 1200x600 with 1 Axes>"
      ]
     },
     "metadata": {},
     "output_type": "display_data"
    }
   ],
   "source": [
    "#lenght of tweets per count\n",
    "train['TweetText'].str.len().hist()"
   ]
  },
  {
   "cell_type": "code",
   "execution_count": 14,
   "id": "829ccc91-2b71-4bc0-a046-04d9e8a42a69",
   "metadata": {},
   "outputs": [
    {
     "data": {
      "text/plain": [
       "<AxesSubplot: xlabel='Label', ylabel='count'>"
      ]
     },
     "execution_count": 14,
     "metadata": {},
     "output_type": "execute_result"
    },
    {
     "data": {
      "image/png": "[encoded data removed]",
      "text/plain": [
       "<Figure size 1200x600 with 1 Axes>"
      ]
     },
     "metadata": {},
     "output_type": "display_data"
    }
   ],
   "source": [
    "#labels\n",
    "sns.countplot(x='Label', data=train)"
   ]
  },
  {
   "cell_type": "markdown",
   "id": "4f88eaa0-7281-4c19-914f-42f08b7d1e7d",
   "metadata": {},
   "source": [
    "## Feature Extraction"
   ]
  },
  {
   "cell_type": "code",
   "execution_count": 15,
   "id": "4d00f025-ad27-4059-8e2c-a51fcc423bef",
   "metadata": {},
   "outputs": [],
   "source": [
    "# clean tweets function\n",
    "def clean_Tweets(tweet):\n",
    "    tweet = re.sub(r'@[A-Za-z0-9]+', '', tweet)\n",
    "    tweet = re.sub(r'#', '', tweet)\n",
    "    tweet = re.sub(r'RT[\\s]+', '', tweet)\n",
    "    tweet = re.sub(r'https?:\\/\\/\\S+', '', tweet)\n",
    "    #converts all text in the tweet to lowercase\n",
    "    tweet = tweet.lower()\n",
    "    tweet = ''.join([i for i in tweet if i not in string.punctuation])\n",
    "    return tweet"
   ]
  },
  {
   "cell_type": "code",
   "execution_count": 16,
   "id": "f1427c6b-4fb4-4f8c-b1e4-94d1b52b334e",
   "metadata": {},
   "outputs": [],
   "source": [
    "stop_words = nltk.corpus.stopwords.words('english')\n",
    "#len(set(stop_words))"
   ]
  },
  {
   "cell_type": "code",
   "execution_count": 17,
   "id": "9db5dcaa-b136-4470-b080-59df8472a120",
   "metadata": {},
   "outputs": [],
   "source": [
    "#remove stopwords function\n",
    "def remove_stopwords(txt):\n",
    "    return \" \".join([word for word in str(txt).split() if word not in stop_words])"
   ]
  },
  {
   "cell_type": "code",
   "execution_count": 18,
   "id": "7171966d-590e-4e16-9717-f3ba3e152667",
   "metadata": {},
   "outputs": [],
   "source": [
    "lm = nltk.WordNetLemmatizer()\n",
    "#lematizer tweets function\n",
    "def lemmatizer_tweet(tweet):\n",
    "    tweet = tweet.split(' ')\n",
    "    text = \" \".join([lm.lemmatize(word) for word in tweet])\n",
    "    return text"
   ]
  },
  {
   "cell_type": "markdown",
   "id": "ab4c184b-7af7-42d6-808e-df63b8cd7609",
   "metadata": {},
   "source": [
    "After defining the functions, we will create a new column called '*cleanTweets*' by applying all of these functions to the \"TweetText\" of each data point. This means that we will use the defined functions to clean up the text data in the \"Tweet Text\" column and store the cleaned up version in a new column called \"cleanTweets\"."
   ]
  },
  {
   "cell_type": "code",
   "execution_count": 19,
   "id": "3f3ed091-90bc-4bb3-b285-b8c63bd5d35b",
   "metadata": {},
   "outputs": [],
   "source": [
    "train['cleanTweets'] = train['TweetText'].apply(clean_Tweets)\n",
    "train['cleanTweets'] = train['cleanTweets'].apply(remove_stopwords)\n",
    "train['cleanTweets'] = train['cleanTweets'].apply(lemmatizer_tweet)\n",
    "\n",
    "\n",
    "test['cleanTweets'] = test['TweetText'].apply(clean_Tweets)\n",
    "test['cleanTweets'] = test['cleanTweets'].apply(remove_stopwords)\n",
    "test['cleanTweets'] = test['cleanTweets'].apply(lemmatizer_tweet)"
   ]
  },
  {
   "cell_type": "code",
   "execution_count": 20,
   "id": "a8218336-fca2-456b-b71e-3cbeebb7c826",
   "metadata": {},
   "outputs": [
    {
     "data": {
      "text/html": [
       "<div>\n",
       "<style scoped>\n",
       "    .dataframe tbody tr th:only-of-type {\n",
       "        vertical-align: middle;\n",
       "    }\n",
       "\n",
       "    .dataframe tbody tr th {\n",
       "        vertical-align: top;\n",
       "    }\n",
       "\n",
       "    .dataframe thead th {\n",
       "        text-align: right;\n",
       "    }\n",
       "</style>\n",
       "<table border=\"1\" class=\"dataframe\">\n",
       "  <thead>\n",
       "    <tr style=\"text-align: right;\">\n",
       "      <th></th>\n",
       "      <th>TweetId</th>\n",
       "      <th>Label</th>\n",
       "      <th>TweetText</th>\n",
       "      <th>cleanTweets</th>\n",
       "    </tr>\n",
       "  </thead>\n",
       "  <tbody>\n",
       "    <tr>\n",
       "      <th>0</th>\n",
       "      <td>304271250237304833</td>\n",
       "      <td>Politics</td>\n",
       "      <td>'#SecKerry: The value of the @StateDept and @U...</td>\n",
       "      <td>seckerry value measured dollar term deepest am...</td>\n",
       "    </tr>\n",
       "    <tr>\n",
       "      <th>1</th>\n",
       "      <td>304834304222064640</td>\n",
       "      <td>Politics</td>\n",
       "      <td>'@rraina1481 I fear so'</td>\n",
       "      <td>fear</td>\n",
       "    </tr>\n",
       "    <tr>\n",
       "      <th>2</th>\n",
       "      <td>303568995880144898</td>\n",
       "      <td>Sports</td>\n",
       "      <td>'Watch video highlights of the #wwc13 final be...</td>\n",
       "      <td>watch video highlight wwc13 final australia we...</td>\n",
       "    </tr>\n",
       "    <tr>\n",
       "      <th>3</th>\n",
       "      <td>304366580664528896</td>\n",
       "      <td>Sports</td>\n",
       "      <td>'RT @chelscanlan: At Nitro Circus at #AlbertPa...</td>\n",
       "      <td>nitro circus albertpark theymakeitlooksoeasy c...</td>\n",
       "    </tr>\n",
       "    <tr>\n",
       "      <th>4</th>\n",
       "      <td>296770931098009601</td>\n",
       "      <td>Sports</td>\n",
       "      <td>'@cricketfox Always a good thing. Thanks for t...</td>\n",
       "      <td>always good thing thanks feedback</td>\n",
       "    </tr>\n",
       "  </tbody>\n",
       "</table>\n",
       "</div>"
      ],
      "text/plain": [
       "              TweetId     Label  \\\n",
       "0  304271250237304833  Politics   \n",
       "1  304834304222064640  Politics   \n",
       "2  303568995880144898    Sports   \n",
       "3  304366580664528896    Sports   \n",
       "4  296770931098009601    Sports   \n",
       "\n",
       "                                           TweetText  \\\n",
       "0  '#SecKerry: The value of the @StateDept and @U...   \n",
       "1                            '@rraina1481 I fear so'   \n",
       "2  'Watch video highlights of the #wwc13 final be...   \n",
       "3  'RT @chelscanlan: At Nitro Circus at #AlbertPa...   \n",
       "4  '@cricketfox Always a good thing. Thanks for t...   \n",
       "\n",
       "                                         cleanTweets  \n",
       "0  seckerry value measured dollar term deepest am...  \n",
       "1                                               fear  \n",
       "2  watch video highlight wwc13 final australia we...  \n",
       "3  nitro circus albertpark theymakeitlooksoeasy c...  \n",
       "4                  always good thing thanks feedback  "
      ]
     },
     "execution_count": 20,
     "metadata": {},
     "output_type": "execute_result"
    }
   ],
   "source": [
    "train.head()"
   ]
  },
  {
   "cell_type": "code",
   "execution_count": 21,
   "id": "2b3f5bc5-1594-4d98-9065-ba6bf49820f6",
   "metadata": {},
   "outputs": [
    {
     "data": {
      "text/html": [
       "<div>\n",
       "<style scoped>\n",
       "    .dataframe tbody tr th:only-of-type {\n",
       "        vertical-align: middle;\n",
       "    }\n",
       "\n",
       "    .dataframe tbody tr th {\n",
       "        vertical-align: top;\n",
       "    }\n",
       "\n",
       "    .dataframe thead th {\n",
       "        text-align: right;\n",
       "    }\n",
       "</style>\n",
       "<table border=\"1\" class=\"dataframe\">\n",
       "  <thead>\n",
       "    <tr style=\"text-align: right;\">\n",
       "      <th></th>\n",
       "      <th>TweetId</th>\n",
       "      <th>TweetText</th>\n",
       "      <th>cleanTweets</th>\n",
       "    </tr>\n",
       "  </thead>\n",
       "  <tbody>\n",
       "    <tr>\n",
       "      <th>0</th>\n",
       "      <td>306486520121012224</td>\n",
       "      <td>'28. The home side threaten again through Maso...</td>\n",
       "      <td>28 home side threaten mason bennett get end lo...</td>\n",
       "    </tr>\n",
       "    <tr>\n",
       "      <th>1</th>\n",
       "      <td>286353402605228032</td>\n",
       "      <td>'@mrbrown @aulia Thx for asking. See http://t....</td>\n",
       "      <td>thx asking see derives series abbreviation pou...</td>\n",
       "    </tr>\n",
       "    <tr>\n",
       "      <th>2</th>\n",
       "      <td>289531046037438464</td>\n",
       "      <td>'@Sochi2014 construction along the shores of t...</td>\n",
       "      <td>construction along shore black sea</td>\n",
       "    </tr>\n",
       "    <tr>\n",
       "      <th>3</th>\n",
       "      <td>306451661403062273</td>\n",
       "      <td>'#SecKerry\\u2019s remarks after meeting with F...</td>\n",
       "      <td>seckerryu2019s remark meeting foreign minister...</td>\n",
       "    </tr>\n",
       "    <tr>\n",
       "      <th>4</th>\n",
       "      <td>297941800658812928</td>\n",
       "      <td>'The #IPLauction has begun. Ricky Ponting is t...</td>\n",
       "      <td>iplauction begun ricky ponting first player go...</td>\n",
       "    </tr>\n",
       "  </tbody>\n",
       "</table>\n",
       "</div>"
      ],
      "text/plain": [
       "              TweetId                                          TweetText  \\\n",
       "0  306486520121012224  '28. The home side threaten again through Maso...   \n",
       "1  286353402605228032  '@mrbrown @aulia Thx for asking. See http://t....   \n",
       "2  289531046037438464  '@Sochi2014 construction along the shores of t...   \n",
       "3  306451661403062273  '#SecKerry\\u2019s remarks after meeting with F...   \n",
       "4  297941800658812928  'The #IPLauction has begun. Ricky Ponting is t...   \n",
       "\n",
       "                                         cleanTweets  \n",
       "0  28 home side threaten mason bennett get end lo...  \n",
       "1  thx asking see derives series abbreviation pou...  \n",
       "2                 construction along shore black sea  \n",
       "3  seckerryu2019s remark meeting foreign minister...  \n",
       "4  iplauction begun ricky ponting first player go...  "
      ]
     },
     "execution_count": 21,
     "metadata": {},
     "output_type": "execute_result"
    }
   ],
   "source": [
    "test.head()"
   ]
  },
  {
   "cell_type": "code",
   "execution_count": 22,
   "id": "6699a6f3-d6ac-4bbd-8742-3ff3a83c2e55",
   "metadata": {},
   "outputs": [
    {
     "name": "stdout",
     "output_type": "stream",
     "text": [
      "TweetId        0\n",
      "Label          0\n",
      "TweetText      0\n",
      "cleanTweets    0\n",
      "dtype: int64\n",
      "TweetId        0\n",
      "TweetText      0\n",
      "cleanTweets    0\n",
      "dtype: int64\n"
     ]
    }
   ],
   "source": [
    "print(train.isnull().sum())\n",
    "print(test.isnull().sum())"
   ]
  },
  {
   "cell_type": "code",
   "execution_count": 23,
   "id": "902a18db-c157-4d85-812d-b4b398fcc2e2",
   "metadata": {},
   "outputs": [],
   "source": [
    "X=train['cleanTweets']\n",
    "y=train['Label']"
   ]
  },
  {
   "cell_type": "code",
   "execution_count": 24,
   "id": "e2167574-be4b-41c7-9146-eec96b7063db",
   "metadata": {},
   "outputs": [],
   "source": [
    "#Split train data into train and test set\n",
    "X_train, X_test, y_train, y_test = train_test_split(X, y, test_size=0.2, random_state=42)"
   ]
  },
  {
   "cell_type": "code",
   "execution_count": 25,
   "id": "38db9f07-bdfc-4190-a90a-2803d3e87c75",
   "metadata": {},
   "outputs": [],
   "source": [
    "vectorizer = CountVectorizer()\n",
    "X_train = vectorizer.fit_transform(X_train)\n",
    "X_test = vectorizer.transform(X_test)"
   ]
  },
  {
   "cell_type": "markdown",
   "id": "ec5e10e3-5eab-47c9-b535-bd1d4199105b",
   "metadata": {},
   "source": [
    "## Model Training"
   ]
  },
  {
   "cell_type": "markdown",
   "id": "eb43b02c-79c1-4e9a-b419-04c7169f0064",
   "metadata": {},
   "source": [
    "## Model Fitting\n",
    "\n",
    "For this problem, we choose to work with LogisticRegression as the baseline model, and SVC (SVM) as a comparatif model"
   ]
  },
  {
   "cell_type": "code",
   "execution_count": 26,
   "id": "89e84845-ac2f-41ef-9565-560cf9550f11",
   "metadata": {},
   "outputs": [],
   "source": [
    "# logisticRegression\n",
    "\n",
    "lr_model = LogisticRegression()\n",
    "lr_model.fit(X_train,y_train)\n",
    "y_pred_lr = lr_model.predict(X_test)\n"
   ]
  },
  {
   "cell_type": "code",
   "execution_count": 27,
   "id": "f6a91502-7334-4ec6-af6d-881239773702",
   "metadata": {},
   "outputs": [],
   "source": [
    "#SVC\n",
    "\n",
    "svc_model = SVC(kernel='rbf',C=10)\n",
    "svc_model.fit(X_train, y_train)\n",
    "y_pred_svc = svc_model.predict(X_test)"
   ]
  },
  {
   "cell_type": "markdown",
   "id": "f50d6b3f-2436-444e-9bca-f47b312be496",
   "metadata": {},
   "source": [
    "## Model Evaluation\n",
    "\n",
    "Let's now evaluate our models"
   ]
  },
  {
   "cell_type": "code",
   "execution_count": 28,
   "id": "ba5d51bf-1fd7-4baf-80bd-51efbbffaa1f",
   "metadata": {},
   "outputs": [
    {
     "name": "stdout",
     "output_type": "stream",
     "text": [
      "accuracy of LogisticRegression: 0.9318007662835249\n",
      "accuracy of SVC: 0.9264367816091954\n"
     ]
    }
   ],
   "source": [
    "print('accuracy of LogisticRegression:',metrics.accuracy_score(y_test,y_pred_lr))\n",
    "print('accuracy of SVC:',metrics.accuracy_score(y_test,y_pred_svc))"
   ]
  },
  {
   "attachments": {},
   "cell_type": "markdown",
   "id": "5f3f6cb9-d8b6-4df3-94b4-198d5b8ac820",
   "metadata": {},
   "source": [
    "We can observe that LogisticRegression and SVC are closed, but:\n",
    "   \n",
    "  -  LogisticRegression has the best value of Accuracy.\n",
    " \n",
    "Based on model evaluatuin, we  consider the LogisticRegression model as the most efficient model.So,we gonna use the *LogisticRegression* model to predict the new data : test"
   ]
  },
  {
   "cell_type": "code",
   "execution_count": 29,
   "id": "50dba796-414e-40aa-a2eb-67d712419310",
   "metadata": {},
   "outputs": [],
   "source": [
    "new_tweets=test['cleanTweets']\n",
    "new_tweets=vectorizer.transform(test['cleanTweets'])\n",
    "pred=lr_model.predict(new_tweets)"
   ]
  },
  {
   "cell_type": "code",
   "execution_count": 30,
   "id": "7a324200-38bb-46fc-86a6-00ad787e1259",
   "metadata": {},
   "outputs": [],
   "source": [
    "#save submission to csv\n",
    "submit_df = pd.DataFrame(test['TweetId'])\n",
    "submit_df['label'] = pred\n",
    "submit_df.to_csv('submission.csv', index=False)"
   ]
  }
 ],
 "metadata": {
  "kernelspec": {
   "display_name": "Python 3 (ipykernel)",
   "language": "python",
   "name": "python3"
  },
  "language_info": {
   "codemirror_mode": {
    "name": "ipython",
    "version": 3
   },
   "file_extension": ".py",
   "mimetype": "text/x-python",
   "name": "python",
   "nbconvert_exporter": "python",
   "pygments_lexer": "ipython3",
   "version": "3.10.8"
  }
 },
 "nbformat": 4,
 "nbformat_minor": 5
}
