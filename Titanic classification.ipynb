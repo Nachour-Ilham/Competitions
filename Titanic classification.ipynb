{
 "cells": [
  {
   "cell_type": "markdown",
   "id": "00b0505d-2e01-4097-b150-c1db15837203",
   "metadata": {},
   "source": [
    "<pre>\n",
    "<font color='red'>\n",
    "                                             Titanic Competition\n",
    "</font>\n",
    "</pre>"
   ]
  },
  {
   "cell_type": "markdown",
   "id": "107d8593-2805-4481-b793-e467c2e78ab4",
   "metadata": {},
   "source": [
    "<pre>   \n",
    "                                                                         <span style='color:blue'> Author: </span> NACHOUR Ilham \n",
    "</pre>"
   ]
  },
  {
   "cell_type": "markdown",
   "id": "f3beac69-fa4f-421f-a72c-ec8d70dd505f",
   "metadata": {},
   "source": [
    "## Importing the Libraries"
   ]
  },
  {
   "cell_type": "code",
   "execution_count": 1,
   "id": "10ce8703-4930-4538-a305-501b61cfd899",
   "metadata": {},
   "outputs": [],
   "source": [
    "#import required libraries \n",
    "import pandas as pd\n",
    "import numpy as np\n",
    "import matplotlib.pyplot as plt\n",
    "import seaborn as sns\n",
    "\n",
    "from sklearn.compose import make_column_selector as selector\n",
    "from sklearn.model_selection import train_test_split\n",
    "from sklearn.linear_model import LogisticRegression\n",
    "from sklearn.ensemble import RandomForestClassifier\n",
    "\n",
    "\n",
    "from sklearn import metrics"
   ]
  },
  {
   "cell_type": "markdown",
   "id": "ab1c9c47-1b31-4228-9c43-8881b56ac579",
   "metadata": {},
   "source": [
    "## Loading test and training data"
   ]
  },
  {
   "cell_type": "code",
   "execution_count": 2,
   "id": "5266e6c7-3621-4cc9-b999-f665c8579a07",
   "metadata": {},
   "outputs": [],
   "source": [
    "#read train data\n",
    "train_data=pd.read_csv('train.csv')\n",
    "#read test data\n",
    "test_data=pd.read_csv('test.csv')"
   ]
  },
  {
   "cell_type": "markdown",
   "id": "1cb12ee3-ec6c-4d93-b33e-814581d240be",
   "metadata": {},
   "source": [
    "## First look to our data"
   ]
  },
  {
   "cell_type": "code",
   "execution_count": 3,
   "id": "e1cc104a-77ec-408d-aa78-c8528199bb65",
   "metadata": {},
   "outputs": [
    {
     "name": "stdout",
     "output_type": "stream",
     "text": [
      "----------------------------------------------------train data --------------------------------------------------------------\n"
     ]
    },
    {
     "data": {
      "text/html": [
       "<div>\n",
       "<style scoped>\n",
       "    .dataframe tbody tr th:only-of-type {\n",
       "        vertical-align: middle;\n",
       "    }\n",
       "\n",
       "    .dataframe tbody tr th {\n",
       "        vertical-align: top;\n",
       "    }\n",
       "\n",
       "    .dataframe thead th {\n",
       "        text-align: right;\n",
       "    }\n",
       "</style>\n",
       "<table border=\"1\" class=\"dataframe\">\n",
       "  <thead>\n",
       "    <tr style=\"text-align: right;\">\n",
       "      <th></th>\n",
       "      <th>PassengerId</th>\n",
       "      <th>Survived</th>\n",
       "      <th>Pclass</th>\n",
       "      <th>Name</th>\n",
       "      <th>Sex</th>\n",
       "      <th>Age</th>\n",
       "      <th>SibSp</th>\n",
       "      <th>Parch</th>\n",
       "      <th>Ticket</th>\n",
       "      <th>Fare</th>\n",
       "      <th>Cabin</th>\n",
       "      <th>Embarked</th>\n",
       "    </tr>\n",
       "  </thead>\n",
       "  <tbody>\n",
       "    <tr>\n",
       "      <th>0</th>\n",
       "      <td>1</td>\n",
       "      <td>0</td>\n",
       "      <td>3</td>\n",
       "      <td>Braund, Mr. Owen Harris</td>\n",
       "      <td>male</td>\n",
       "      <td>22.0</td>\n",
       "      <td>1</td>\n",
       "      <td>0</td>\n",
       "      <td>A/5 21171</td>\n",
       "      <td>7.2500</td>\n",
       "      <td>NaN</td>\n",
       "      <td>S</td>\n",
       "    </tr>\n",
       "    <tr>\n",
       "      <th>1</th>\n",
       "      <td>2</td>\n",
       "      <td>1</td>\n",
       "      <td>1</td>\n",
       "      <td>Cumings, Mrs. John Bradley (Florence Briggs Th...</td>\n",
       "      <td>female</td>\n",
       "      <td>38.0</td>\n",
       "      <td>1</td>\n",
       "      <td>0</td>\n",
       "      <td>PC 17599</td>\n",
       "      <td>71.2833</td>\n",
       "      <td>C85</td>\n",
       "      <td>C</td>\n",
       "    </tr>\n",
       "    <tr>\n",
       "      <th>2</th>\n",
       "      <td>3</td>\n",
       "      <td>1</td>\n",
       "      <td>3</td>\n",
       "      <td>Heikkinen, Miss. Laina</td>\n",
       "      <td>female</td>\n",
       "      <td>26.0</td>\n",
       "      <td>0</td>\n",
       "      <td>0</td>\n",
       "      <td>STON/O2. 3101282</td>\n",
       "      <td>7.9250</td>\n",
       "      <td>NaN</td>\n",
       "      <td>S</td>\n",
       "    </tr>\n",
       "    <tr>\n",
       "      <th>3</th>\n",
       "      <td>4</td>\n",
       "      <td>1</td>\n",
       "      <td>1</td>\n",
       "      <td>Futrelle, Mrs. Jacques Heath (Lily May Peel)</td>\n",
       "      <td>female</td>\n",
       "      <td>35.0</td>\n",
       "      <td>1</td>\n",
       "      <td>0</td>\n",
       "      <td>113803</td>\n",
       "      <td>53.1000</td>\n",
       "      <td>C123</td>\n",
       "      <td>S</td>\n",
       "    </tr>\n",
       "    <tr>\n",
       "      <th>4</th>\n",
       "      <td>5</td>\n",
       "      <td>0</td>\n",
       "      <td>3</td>\n",
       "      <td>Allen, Mr. William Henry</td>\n",
       "      <td>male</td>\n",
       "      <td>35.0</td>\n",
       "      <td>0</td>\n",
       "      <td>0</td>\n",
       "      <td>373450</td>\n",
       "      <td>8.0500</td>\n",
       "      <td>NaN</td>\n",
       "      <td>S</td>\n",
       "    </tr>\n",
       "  </tbody>\n",
       "</table>\n",
       "</div>"
      ],
      "text/plain": [
       "   PassengerId  Survived  Pclass  \\\n",
       "0            1         0       3   \n",
       "1            2         1       1   \n",
       "2            3         1       3   \n",
       "3            4         1       1   \n",
       "4            5         0       3   \n",
       "\n",
       "                                                Name     Sex   Age  SibSp  \\\n",
       "0                            Braund, Mr. Owen Harris    male  22.0      1   \n",
       "1  Cumings, Mrs. John Bradley (Florence Briggs Th...  female  38.0      1   \n",
       "2                             Heikkinen, Miss. Laina  female  26.0      0   \n",
       "3       Futrelle, Mrs. Jacques Heath (Lily May Peel)  female  35.0      1   \n",
       "4                           Allen, Mr. William Henry    male  35.0      0   \n",
       "\n",
       "   Parch            Ticket     Fare Cabin Embarked  \n",
       "0      0         A/5 21171   7.2500   NaN        S  \n",
       "1      0          PC 17599  71.2833   C85        C  \n",
       "2      0  STON/O2. 3101282   7.9250   NaN        S  \n",
       "3      0            113803  53.1000  C123        S  \n",
       "4      0            373450   8.0500   NaN        S  "
      ]
     },
     "metadata": {},
     "output_type": "display_data"
    },
    {
     "name": "stdout",
     "output_type": "stream",
     "text": [
      "----------------------------------------------------test data ---------------------------------------------------------------\n"
     ]
    },
    {
     "data": {
      "text/html": [
       "<div>\n",
       "<style scoped>\n",
       "    .dataframe tbody tr th:only-of-type {\n",
       "        vertical-align: middle;\n",
       "    }\n",
       "\n",
       "    .dataframe tbody tr th {\n",
       "        vertical-align: top;\n",
       "    }\n",
       "\n",
       "    .dataframe thead th {\n",
       "        text-align: right;\n",
       "    }\n",
       "</style>\n",
       "<table border=\"1\" class=\"dataframe\">\n",
       "  <thead>\n",
       "    <tr style=\"text-align: right;\">\n",
       "      <th></th>\n",
       "      <th>PassengerId</th>\n",
       "      <th>Pclass</th>\n",
       "      <th>Name</th>\n",
       "      <th>Sex</th>\n",
       "      <th>Age</th>\n",
       "      <th>SibSp</th>\n",
       "      <th>Parch</th>\n",
       "      <th>Ticket</th>\n",
       "      <th>Fare</th>\n",
       "      <th>Cabin</th>\n",
       "      <th>Embarked</th>\n",
       "    </tr>\n",
       "  </thead>\n",
       "  <tbody>\n",
       "    <tr>\n",
       "      <th>0</th>\n",
       "      <td>892</td>\n",
       "      <td>3</td>\n",
       "      <td>Kelly, Mr. James</td>\n",
       "      <td>male</td>\n",
       "      <td>34.5</td>\n",
       "      <td>0</td>\n",
       "      <td>0</td>\n",
       "      <td>330911</td>\n",
       "      <td>7.8292</td>\n",
       "      <td>NaN</td>\n",
       "      <td>Q</td>\n",
       "    </tr>\n",
       "    <tr>\n",
       "      <th>1</th>\n",
       "      <td>893</td>\n",
       "      <td>3</td>\n",
       "      <td>Wilkes, Mrs. James (Ellen Needs)</td>\n",
       "      <td>female</td>\n",
       "      <td>47.0</td>\n",
       "      <td>1</td>\n",
       "      <td>0</td>\n",
       "      <td>363272</td>\n",
       "      <td>7.0000</td>\n",
       "      <td>NaN</td>\n",
       "      <td>S</td>\n",
       "    </tr>\n",
       "    <tr>\n",
       "      <th>2</th>\n",
       "      <td>894</td>\n",
       "      <td>2</td>\n",
       "      <td>Myles, Mr. Thomas Francis</td>\n",
       "      <td>male</td>\n",
       "      <td>62.0</td>\n",
       "      <td>0</td>\n",
       "      <td>0</td>\n",
       "      <td>240276</td>\n",
       "      <td>9.6875</td>\n",
       "      <td>NaN</td>\n",
       "      <td>Q</td>\n",
       "    </tr>\n",
       "    <tr>\n",
       "      <th>3</th>\n",
       "      <td>895</td>\n",
       "      <td>3</td>\n",
       "      <td>Wirz, Mr. Albert</td>\n",
       "      <td>male</td>\n",
       "      <td>27.0</td>\n",
       "      <td>0</td>\n",
       "      <td>0</td>\n",
       "      <td>315154</td>\n",
       "      <td>8.6625</td>\n",
       "      <td>NaN</td>\n",
       "      <td>S</td>\n",
       "    </tr>\n",
       "    <tr>\n",
       "      <th>4</th>\n",
       "      <td>896</td>\n",
       "      <td>3</td>\n",
       "      <td>Hirvonen, Mrs. Alexander (Helga E Lindqvist)</td>\n",
       "      <td>female</td>\n",
       "      <td>22.0</td>\n",
       "      <td>1</td>\n",
       "      <td>1</td>\n",
       "      <td>3101298</td>\n",
       "      <td>12.2875</td>\n",
       "      <td>NaN</td>\n",
       "      <td>S</td>\n",
       "    </tr>\n",
       "  </tbody>\n",
       "</table>\n",
       "</div>"
      ],
      "text/plain": [
       "   PassengerId  Pclass                                          Name     Sex  \\\n",
       "0          892       3                              Kelly, Mr. James    male   \n",
       "1          893       3              Wilkes, Mrs. James (Ellen Needs)  female   \n",
       "2          894       2                     Myles, Mr. Thomas Francis    male   \n",
       "3          895       3                              Wirz, Mr. Albert    male   \n",
       "4          896       3  Hirvonen, Mrs. Alexander (Helga E Lindqvist)  female   \n",
       "\n",
       "    Age  SibSp  Parch   Ticket     Fare Cabin Embarked  \n",
       "0  34.5      0      0   330911   7.8292   NaN        Q  \n",
       "1  47.0      1      0   363272   7.0000   NaN        S  \n",
       "2  62.0      0      0   240276   9.6875   NaN        Q  \n",
       "3  27.0      0      0   315154   8.6625   NaN        S  \n",
       "4  22.0      1      1  3101298  12.2875   NaN        S  "
      ]
     },
     "metadata": {},
     "output_type": "display_data"
    }
   ],
   "source": [
    "print('----------------------------------------------------train data --------------------------------------------------------------')\n",
    "display(train_data.head())\n",
    "print('----------------------------------------------------test data ---------------------------------------------------------------')\n",
    "display(test_data.head())"
   ]
  },
  {
   "cell_type": "markdown",
   "id": "bf36526f-f251-4e19-ab10-48def3dd6e59",
   "metadata": {},
   "source": [
    "## Data Exploration"
   ]
  },
  {
   "cell_type": "code",
   "execution_count": 4,
   "id": "f8f194ba-47b4-4f91-8cf6-75336cd3f4e7",
   "metadata": {},
   "outputs": [
    {
     "name": "stdout",
     "output_type": "stream",
     "text": [
      "Train data shape: (891, 12)\n",
      "Test data shape: (418, 11)\n"
     ]
    }
   ],
   "source": [
    "#check out the size of the data\n",
    "print('Train data shape:',train_data.shape)\n",
    "print('Test data shape:',test_data.shape)"
   ]
  },
  {
   "cell_type": "markdown",
   "id": "00a9f6b8-685c-4f00-94ce-34567d3b616b",
   "metadata": {},
   "source": [
    "The training-set has 891 examples and 12 features,while test-set has 418 examples and only 11 features,this is due to,the fact that the test data doesn't include the target column Survived."
   ]
  },
  {
   "cell_type": "code",
   "execution_count": 5,
   "id": "53b4c9a8-e9d0-4ec0-9591-8e71764d1102",
   "metadata": {},
   "outputs": [
    {
     "name": "stdout",
     "output_type": "stream",
     "text": [
      "Number of duplicate rows in train data : 0\n",
      "Number of duplicate rows in test data: 0\n"
     ]
    }
   ],
   "source": [
    "#check if there are duplicated values in data train and data test\n",
    "print('Number of duplicate rows in train data :',train_data.duplicated().sum())\n",
    "print('Number of duplicate rows in test data:',test_data.duplicated().sum())"
   ]
  },
  {
   "cell_type": "markdown",
   "id": "1ff2344c-2392-41c0-85bc-f297aada49c1",
   "metadata": {},
   "source": [
    "It seems like duplicate rows don't exist in test and training data."
   ]
  },
  {
   "cell_type": "code",
   "execution_count": 6,
   "id": "6e06e227-0d4e-4162-a7e7-0569eb95c5ad",
   "metadata": {},
   "outputs": [
    {
     "name": "stdout",
     "output_type": "stream",
     "text": [
      "-------------------------------information about our training data-------------------------------------------------\n",
      "<class 'pandas.core.frame.DataFrame'>\n",
      "RangeIndex: 891 entries, 0 to 890\n",
      "Data columns (total 12 columns):\n",
      " #   Column       Non-Null Count  Dtype  \n",
      "---  ------       --------------  -----  \n",
      " 0   PassengerId  891 non-null    int64  \n",
      " 1   Survived     891 non-null    int64  \n",
      " 2   Pclass       891 non-null    int64  \n",
      " 3   Name         891 non-null    object \n",
      " 4   Sex          891 non-null    object \n",
      " 5   Age          714 non-null    float64\n",
      " 6   SibSp        891 non-null    int64  \n",
      " 7   Parch        891 non-null    int64  \n",
      " 8   Ticket       891 non-null    object \n",
      " 9   Fare         891 non-null    float64\n",
      " 10  Cabin        204 non-null    object \n",
      " 11  Embarked     889 non-null    object \n",
      "dtypes: float64(2), int64(5), object(5)\n",
      "memory usage: 83.7+ KB\n",
      "None\n",
      "\n",
      "--------------------------------information about our test data------------------------------------------------------\n",
      "<class 'pandas.core.frame.DataFrame'>\n",
      "RangeIndex: 418 entries, 0 to 417\n",
      "Data columns (total 11 columns):\n",
      " #   Column       Non-Null Count  Dtype  \n",
      "---  ------       --------------  -----  \n",
      " 0   PassengerId  418 non-null    int64  \n",
      " 1   Pclass       418 non-null    int64  \n",
      " 2   Name         418 non-null    object \n",
      " 3   Sex          418 non-null    object \n",
      " 4   Age          332 non-null    float64\n",
      " 5   SibSp        418 non-null    int64  \n",
      " 6   Parch        418 non-null    int64  \n",
      " 7   Ticket       418 non-null    object \n",
      " 8   Fare         417 non-null    float64\n",
      " 9   Cabin        91 non-null     object \n",
      " 10  Embarked     418 non-null    object \n",
      "dtypes: float64(2), int64(4), object(5)\n",
      "memory usage: 36.0+ KB\n",
      "None\n"
     ]
    }
   ],
   "source": [
    "print('-------------------------------information about our training data-------------------------------------------------')\n",
    "print(train_data.info())\n",
    "print()\n",
    "print('--------------------------------information about our test data------------------------------------------------------')\n",
    "print(test_data.info())"
   ]
  },
  {
   "cell_type": "markdown",
   "id": "87636ecd-2dac-4463-b059-e5912aafc5bd",
   "metadata": {},
   "source": [
    "From the result above, we notice that there are two types of data: numerical and categorical data.\n",
    "Fisrt let's have a short description of our training data:"
   ]
  },
  {
   "cell_type": "code",
   "execution_count": 7,
   "id": "1bb8af1b-661d-42ad-9443-303d67620341",
   "metadata": {},
   "outputs": [
    {
     "name": "stdout",
     "output_type": "stream",
     "text": [
      "numerical feature descriptive statistics\n"
     ]
    },
    {
     "data": {
      "text/html": [
       "<div>\n",
       "<style scoped>\n",
       "    .dataframe tbody tr th:only-of-type {\n",
       "        vertical-align: middle;\n",
       "    }\n",
       "\n",
       "    .dataframe tbody tr th {\n",
       "        vertical-align: top;\n",
       "    }\n",
       "\n",
       "    .dataframe thead th {\n",
       "        text-align: right;\n",
       "    }\n",
       "</style>\n",
       "<table border=\"1\" class=\"dataframe\">\n",
       "  <thead>\n",
       "    <tr style=\"text-align: right;\">\n",
       "      <th></th>\n",
       "      <th>count</th>\n",
       "      <th>mean</th>\n",
       "      <th>std</th>\n",
       "      <th>min</th>\n",
       "      <th>25%</th>\n",
       "      <th>50%</th>\n",
       "      <th>75%</th>\n",
       "      <th>max</th>\n",
       "    </tr>\n",
       "  </thead>\n",
       "  <tbody>\n",
       "    <tr>\n",
       "      <th>PassengerId</th>\n",
       "      <td>891.0</td>\n",
       "      <td>446.000000</td>\n",
       "      <td>257.353842</td>\n",
       "      <td>1.00</td>\n",
       "      <td>223.5000</td>\n",
       "      <td>446.0000</td>\n",
       "      <td>668.5</td>\n",
       "      <td>891.0000</td>\n",
       "    </tr>\n",
       "    <tr>\n",
       "      <th>Survived</th>\n",
       "      <td>891.0</td>\n",
       "      <td>0.383838</td>\n",
       "      <td>0.486592</td>\n",
       "      <td>0.00</td>\n",
       "      <td>0.0000</td>\n",
       "      <td>0.0000</td>\n",
       "      <td>1.0</td>\n",
       "      <td>1.0000</td>\n",
       "    </tr>\n",
       "    <tr>\n",
       "      <th>Pclass</th>\n",
       "      <td>891.0</td>\n",
       "      <td>2.308642</td>\n",
       "      <td>0.836071</td>\n",
       "      <td>1.00</td>\n",
       "      <td>2.0000</td>\n",
       "      <td>3.0000</td>\n",
       "      <td>3.0</td>\n",
       "      <td>3.0000</td>\n",
       "    </tr>\n",
       "    <tr>\n",
       "      <th>Age</th>\n",
       "      <td>714.0</td>\n",
       "      <td>29.699118</td>\n",
       "      <td>14.526497</td>\n",
       "      <td>0.42</td>\n",
       "      <td>20.1250</td>\n",
       "      <td>28.0000</td>\n",
       "      <td>38.0</td>\n",
       "      <td>80.0000</td>\n",
       "    </tr>\n",
       "    <tr>\n",
       "      <th>SibSp</th>\n",
       "      <td>891.0</td>\n",
       "      <td>0.523008</td>\n",
       "      <td>1.102743</td>\n",
       "      <td>0.00</td>\n",
       "      <td>0.0000</td>\n",
       "      <td>0.0000</td>\n",
       "      <td>1.0</td>\n",
       "      <td>8.0000</td>\n",
       "    </tr>\n",
       "    <tr>\n",
       "      <th>Parch</th>\n",
       "      <td>891.0</td>\n",
       "      <td>0.381594</td>\n",
       "      <td>0.806057</td>\n",
       "      <td>0.00</td>\n",
       "      <td>0.0000</td>\n",
       "      <td>0.0000</td>\n",
       "      <td>0.0</td>\n",
       "      <td>6.0000</td>\n",
       "    </tr>\n",
       "    <tr>\n",
       "      <th>Fare</th>\n",
       "      <td>891.0</td>\n",
       "      <td>32.204208</td>\n",
       "      <td>49.693429</td>\n",
       "      <td>0.00</td>\n",
       "      <td>7.9104</td>\n",
       "      <td>14.4542</td>\n",
       "      <td>31.0</td>\n",
       "      <td>512.3292</td>\n",
       "    </tr>\n",
       "  </tbody>\n",
       "</table>\n",
       "</div>"
      ],
      "text/plain": [
       "             count        mean         std   min       25%       50%    75%  \\\n",
       "PassengerId  891.0  446.000000  257.353842  1.00  223.5000  446.0000  668.5   \n",
       "Survived     891.0    0.383838    0.486592  0.00    0.0000    0.0000    1.0   \n",
       "Pclass       891.0    2.308642    0.836071  1.00    2.0000    3.0000    3.0   \n",
       "Age          714.0   29.699118   14.526497  0.42   20.1250   28.0000   38.0   \n",
       "SibSp        891.0    0.523008    1.102743  0.00    0.0000    0.0000    1.0   \n",
       "Parch        891.0    0.381594    0.806057  0.00    0.0000    0.0000    0.0   \n",
       "Fare         891.0   32.204208   49.693429  0.00    7.9104   14.4542   31.0   \n",
       "\n",
       "                  max  \n",
       "PassengerId  891.0000  \n",
       "Survived       1.0000  \n",
       "Pclass         3.0000  \n",
       "Age           80.0000  \n",
       "SibSp          8.0000  \n",
       "Parch          6.0000  \n",
       "Fare         512.3292  "
      ]
     },
     "execution_count": 7,
     "metadata": {},
     "output_type": "execute_result"
    }
   ],
   "source": [
    "#training data\n",
    "print('numerical feature descriptive statistics')\n",
    "train_data.describe().T"
   ]
  },
  {
   "cell_type": "code",
   "execution_count": 8,
   "id": "7427bd22-8381-46eb-b7dd-2c5ec75216e0",
   "metadata": {},
   "outputs": [
    {
     "name": "stdout",
     "output_type": "stream",
     "text": [
      "categorical feature descriptive statistics\n"
     ]
    },
    {
     "data": {
      "text/html": [
       "<div>\n",
       "<style scoped>\n",
       "    .dataframe tbody tr th:only-of-type {\n",
       "        vertical-align: middle;\n",
       "    }\n",
       "\n",
       "    .dataframe tbody tr th {\n",
       "        vertical-align: top;\n",
       "    }\n",
       "\n",
       "    .dataframe thead th {\n",
       "        text-align: right;\n",
       "    }\n",
       "</style>\n",
       "<table border=\"1\" class=\"dataframe\">\n",
       "  <thead>\n",
       "    <tr style=\"text-align: right;\">\n",
       "      <th></th>\n",
       "      <th>count</th>\n",
       "      <th>unique</th>\n",
       "      <th>top</th>\n",
       "      <th>freq</th>\n",
       "    </tr>\n",
       "  </thead>\n",
       "  <tbody>\n",
       "    <tr>\n",
       "      <th>Name</th>\n",
       "      <td>891</td>\n",
       "      <td>891</td>\n",
       "      <td>Braund, Mr. Owen Harris</td>\n",
       "      <td>1</td>\n",
       "    </tr>\n",
       "    <tr>\n",
       "      <th>Ticket</th>\n",
       "      <td>891</td>\n",
       "      <td>681</td>\n",
       "      <td>347082</td>\n",
       "      <td>7</td>\n",
       "    </tr>\n",
       "    <tr>\n",
       "      <th>Cabin</th>\n",
       "      <td>204</td>\n",
       "      <td>147</td>\n",
       "      <td>B96 B98</td>\n",
       "      <td>4</td>\n",
       "    </tr>\n",
       "    <tr>\n",
       "      <th>Embarked</th>\n",
       "      <td>889</td>\n",
       "      <td>3</td>\n",
       "      <td>S</td>\n",
       "      <td>644</td>\n",
       "    </tr>\n",
       "    <tr>\n",
       "      <th>Sex</th>\n",
       "      <td>891</td>\n",
       "      <td>2</td>\n",
       "      <td>male</td>\n",
       "      <td>577</td>\n",
       "    </tr>\n",
       "  </tbody>\n",
       "</table>\n",
       "</div>"
      ],
      "text/plain": [
       "         count unique                      top freq\n",
       "Name       891    891  Braund, Mr. Owen Harris    1\n",
       "Ticket     891    681                   347082    7\n",
       "Cabin      204    147                  B96 B98    4\n",
       "Embarked   889      3                        S  644\n",
       "Sex        891      2                     male  577"
      ]
     },
     "execution_count": 8,
     "metadata": {},
     "output_type": "execute_result"
    }
   ],
   "source": [
    "print('categorical feature descriptive statistics')\n",
    "train_data.describe(include='object').T.sort_values(by=['unique'], ascending=False)"
   ]
  },
  {
   "cell_type": "markdown",
   "id": "ee9f27f0-21da-4787-b343-19a52e5f6965",
   "metadata": {},
   "source": [
    "Above we can see that 38.3% out of the training-set survived the Titanic. We can also see that the passenger ages range from 0.42 to 80. On top of that we can already detect some features, that contain missing values, like the ‘Age’ and 'Cabin' features.So let's move on test data:"
   ]
  },
  {
   "cell_type": "code",
   "execution_count": 9,
   "id": "73de9a9f-e372-44ee-900d-67b79240ccaf",
   "metadata": {},
   "outputs": [
    {
     "name": "stdout",
     "output_type": "stream",
     "text": [
      "numerical feature descriptive statistics\n"
     ]
    },
    {
     "data": {
      "text/html": [
       "<div>\n",
       "<style scoped>\n",
       "    .dataframe tbody tr th:only-of-type {\n",
       "        vertical-align: middle;\n",
       "    }\n",
       "\n",
       "    .dataframe tbody tr th {\n",
       "        vertical-align: top;\n",
       "    }\n",
       "\n",
       "    .dataframe thead th {\n",
       "        text-align: right;\n",
       "    }\n",
       "</style>\n",
       "<table border=\"1\" class=\"dataframe\">\n",
       "  <thead>\n",
       "    <tr style=\"text-align: right;\">\n",
       "      <th></th>\n",
       "      <th>count</th>\n",
       "      <th>mean</th>\n",
       "      <th>std</th>\n",
       "      <th>min</th>\n",
       "      <th>25%</th>\n",
       "      <th>50%</th>\n",
       "      <th>75%</th>\n",
       "      <th>max</th>\n",
       "    </tr>\n",
       "  </thead>\n",
       "  <tbody>\n",
       "    <tr>\n",
       "      <th>PassengerId</th>\n",
       "      <td>418.0</td>\n",
       "      <td>1100.500000</td>\n",
       "      <td>120.810458</td>\n",
       "      <td>892.00</td>\n",
       "      <td>996.2500</td>\n",
       "      <td>1100.5000</td>\n",
       "      <td>1204.75</td>\n",
       "      <td>1309.0000</td>\n",
       "    </tr>\n",
       "    <tr>\n",
       "      <th>Pclass</th>\n",
       "      <td>418.0</td>\n",
       "      <td>2.265550</td>\n",
       "      <td>0.841838</td>\n",
       "      <td>1.00</td>\n",
       "      <td>1.0000</td>\n",
       "      <td>3.0000</td>\n",
       "      <td>3.00</td>\n",
       "      <td>3.0000</td>\n",
       "    </tr>\n",
       "    <tr>\n",
       "      <th>Age</th>\n",
       "      <td>332.0</td>\n",
       "      <td>30.272590</td>\n",
       "      <td>14.181209</td>\n",
       "      <td>0.17</td>\n",
       "      <td>21.0000</td>\n",
       "      <td>27.0000</td>\n",
       "      <td>39.00</td>\n",
       "      <td>76.0000</td>\n",
       "    </tr>\n",
       "    <tr>\n",
       "      <th>SibSp</th>\n",
       "      <td>418.0</td>\n",
       "      <td>0.447368</td>\n",
       "      <td>0.896760</td>\n",
       "      <td>0.00</td>\n",
       "      <td>0.0000</td>\n",
       "      <td>0.0000</td>\n",
       "      <td>1.00</td>\n",
       "      <td>8.0000</td>\n",
       "    </tr>\n",
       "    <tr>\n",
       "      <th>Parch</th>\n",
       "      <td>418.0</td>\n",
       "      <td>0.392344</td>\n",
       "      <td>0.981429</td>\n",
       "      <td>0.00</td>\n",
       "      <td>0.0000</td>\n",
       "      <td>0.0000</td>\n",
       "      <td>0.00</td>\n",
       "      <td>9.0000</td>\n",
       "    </tr>\n",
       "    <tr>\n",
       "      <th>Fare</th>\n",
       "      <td>417.0</td>\n",
       "      <td>35.627188</td>\n",
       "      <td>55.907576</td>\n",
       "      <td>0.00</td>\n",
       "      <td>7.8958</td>\n",
       "      <td>14.4542</td>\n",
       "      <td>31.50</td>\n",
       "      <td>512.3292</td>\n",
       "    </tr>\n",
       "  </tbody>\n",
       "</table>\n",
       "</div>"
      ],
      "text/plain": [
       "             count         mean         std     min       25%        50%  \\\n",
       "PassengerId  418.0  1100.500000  120.810458  892.00  996.2500  1100.5000   \n",
       "Pclass       418.0     2.265550    0.841838    1.00    1.0000     3.0000   \n",
       "Age          332.0    30.272590   14.181209    0.17   21.0000    27.0000   \n",
       "SibSp        418.0     0.447368    0.896760    0.00    0.0000     0.0000   \n",
       "Parch        418.0     0.392344    0.981429    0.00    0.0000     0.0000   \n",
       "Fare         417.0    35.627188   55.907576    0.00    7.8958    14.4542   \n",
       "\n",
       "                 75%        max  \n",
       "PassengerId  1204.75  1309.0000  \n",
       "Pclass          3.00     3.0000  \n",
       "Age            39.00    76.0000  \n",
       "SibSp           1.00     8.0000  \n",
       "Parch           0.00     9.0000  \n",
       "Fare           31.50   512.3292  "
      ]
     },
     "execution_count": 9,
     "metadata": {},
     "output_type": "execute_result"
    }
   ],
   "source": [
    "#test data\n",
    "print('numerical feature descriptive statistics')\n",
    "test_data.describe().T"
   ]
  },
  {
   "cell_type": "code",
   "execution_count": 10,
   "id": "01e3b1d0-bac1-4fac-b37d-036f38d0c1f0",
   "metadata": {},
   "outputs": [
    {
     "name": "stdout",
     "output_type": "stream",
     "text": [
      "categorical feature descriptive statistics\n"
     ]
    },
    {
     "data": {
      "text/html": [
       "<div>\n",
       "<style scoped>\n",
       "    .dataframe tbody tr th:only-of-type {\n",
       "        vertical-align: middle;\n",
       "    }\n",
       "\n",
       "    .dataframe tbody tr th {\n",
       "        vertical-align: top;\n",
       "    }\n",
       "\n",
       "    .dataframe thead th {\n",
       "        text-align: right;\n",
       "    }\n",
       "</style>\n",
       "<table border=\"1\" class=\"dataframe\">\n",
       "  <thead>\n",
       "    <tr style=\"text-align: right;\">\n",
       "      <th></th>\n",
       "      <th>count</th>\n",
       "      <th>unique</th>\n",
       "      <th>top</th>\n",
       "      <th>freq</th>\n",
       "    </tr>\n",
       "  </thead>\n",
       "  <tbody>\n",
       "    <tr>\n",
       "      <th>Name</th>\n",
       "      <td>891</td>\n",
       "      <td>891</td>\n",
       "      <td>Braund, Mr. Owen Harris</td>\n",
       "      <td>1</td>\n",
       "    </tr>\n",
       "    <tr>\n",
       "      <th>Ticket</th>\n",
       "      <td>891</td>\n",
       "      <td>681</td>\n",
       "      <td>347082</td>\n",
       "      <td>7</td>\n",
       "    </tr>\n",
       "    <tr>\n",
       "      <th>Cabin</th>\n",
       "      <td>204</td>\n",
       "      <td>147</td>\n",
       "      <td>B96 B98</td>\n",
       "      <td>4</td>\n",
       "    </tr>\n",
       "    <tr>\n",
       "      <th>Embarked</th>\n",
       "      <td>889</td>\n",
       "      <td>3</td>\n",
       "      <td>S</td>\n",
       "      <td>644</td>\n",
       "    </tr>\n",
       "    <tr>\n",
       "      <th>Sex</th>\n",
       "      <td>891</td>\n",
       "      <td>2</td>\n",
       "      <td>male</td>\n",
       "      <td>577</td>\n",
       "    </tr>\n",
       "  </tbody>\n",
       "</table>\n",
       "</div>"
      ],
      "text/plain": [
       "         count unique                      top freq\n",
       "Name       891    891  Braund, Mr. Owen Harris    1\n",
       "Ticket     891    681                   347082    7\n",
       "Cabin      204    147                  B96 B98    4\n",
       "Embarked   889      3                        S  644\n",
       "Sex        891      2                     male  577"
      ]
     },
     "execution_count": 10,
     "metadata": {},
     "output_type": "execute_result"
    }
   ],
   "source": [
    "print('categorical feature descriptive statistics')\n",
    "train_data.describe(include='object').T.sort_values(by=['unique'], ascending=False)"
   ]
  },
  {
   "cell_type": "markdown",
   "id": "42ed3311-29c1-44a7-8b4f-f82e87354a9d",
   "metadata": {},
   "source": [
    "From the two tables above, we can see some columns, that contain missing values, for example the ‘Age’ and 'Cabin' features."
   ]
  },
  {
   "cell_type": "markdown",
   "id": "36028623-d243-4190-8441-faae0fa8bc4c",
   "metadata": {},
   "source": [
    "From all, we conclude that we need to convert a lot of features into numeric ones later on, so that the machine learning algorithms can process them.Based on the following results,Let’s take a more detailed look at what data is actually missing:"
   ]
  },
  {
   "cell_type": "code",
   "execution_count": 11,
   "id": "26a973f1-a750-44c6-a4d7-4f0533fc8937",
   "metadata": {},
   "outputs": [
    {
     "data": {
      "text/plain": [
       "Text(0.5, 25.722222222222214, 'test data')"
      ]
     },
     "execution_count": 11,
     "metadata": {},
     "output_type": "execute_result"
    },
    {
     "data": {
      "image/png": "[encoded data removed]",
      "text/plain": [
       "<Figure size 1000x500 with 4 Axes>"
      ]
     },
     "metadata": {},
     "output_type": "display_data"
    }
   ],
   "source": [
    "#First look\n",
    "fig,ax=plt.subplots(1,2,figsize=(10,5))\n",
    "sns.heatmap(train_data.isnull(),ax=ax[0],cmap=sns.cubehelix_palette(as_cmap=True))\n",
    "ax[0].set_xlabel('train data')\n",
    "sns.heatmap(test_data.isnull(), ax=ax[1],cmap=sns.cubehelix_palette(as_cmap=True))\n",
    "ax[1].set_xlabel('test data')"
   ]
  },
  {
   "cell_type": "code",
   "execution_count": 12,
   "id": "3ceda569-21c3-4655-9831-5abfb7a27fb3",
   "metadata": {},
   "outputs": [
    {
     "data": {
      "text/html": [
       "<style type=\"text/css\">\n",
       "#T_06d26_row0_col0, #T_06d26_row0_col1 {\n",
       "  background-color: #fde725;\n",
       "  color: #000000;\n",
       "}\n",
       "#T_06d26_row1_col0 {\n",
       "  background-color: #3a538b;\n",
       "  color: #f1f1f1;\n",
       "}\n",
       "#T_06d26_row1_col1 {\n",
       "  background-color: #3a548c;\n",
       "  color: #f1f1f1;\n",
       "}\n",
       "#T_06d26_row2_col0, #T_06d26_row2_col1, #T_06d26_row3_col0, #T_06d26_row3_col1, #T_06d26_row4_col0, #T_06d26_row4_col1, #T_06d26_row5_col0, #T_06d26_row5_col1, #T_06d26_row6_col0, #T_06d26_row6_col1, #T_06d26_row7_col0, #T_06d26_row7_col1, #T_06d26_row8_col0, #T_06d26_row8_col1, #T_06d26_row9_col0, #T_06d26_row9_col1, #T_06d26_row10_col0, #T_06d26_row10_col1, #T_06d26_row11_col0, #T_06d26_row11_col1 {\n",
       "  background-color: #440154;\n",
       "  color: #f1f1f1;\n",
       "}\n",
       "</style>\n",
       "<table id=\"T_06d26\">\n",
       "  <thead>\n",
       "    <tr>\n",
       "      <th class=\"blank level0\" >&nbsp;</th>\n",
       "      <th id=\"T_06d26_level0_col0\" class=\"col_heading level0 col0\" >null train values</th>\n",
       "      <th id=\"T_06d26_level0_col1\" class=\"col_heading level0 col1\" >%</th>\n",
       "    </tr>\n",
       "  </thead>\n",
       "  <tbody>\n",
       "    <tr>\n",
       "      <th id=\"T_06d26_level0_row0\" class=\"row_heading level0 row0\" >Cabin</th>\n",
       "      <td id=\"T_06d26_row0_col0\" class=\"data row0 col0\" >687</td>\n",
       "      <td id=\"T_06d26_row0_col1\" class=\"data row0 col1\" >77.100000</td>\n",
       "    </tr>\n",
       "    <tr>\n",
       "      <th id=\"T_06d26_level0_row1\" class=\"row_heading level0 row1\" >Age</th>\n",
       "      <td id=\"T_06d26_row1_col0\" class=\"data row1 col0\" >177</td>\n",
       "      <td id=\"T_06d26_row1_col1\" class=\"data row1 col1\" >19.900000</td>\n",
       "    </tr>\n",
       "    <tr>\n",
       "      <th id=\"T_06d26_level0_row2\" class=\"row_heading level0 row2\" >Embarked</th>\n",
       "      <td id=\"T_06d26_row2_col0\" class=\"data row2 col0\" >2</td>\n",
       "      <td id=\"T_06d26_row2_col1\" class=\"data row2 col1\" >0.200000</td>\n",
       "    </tr>\n",
       "    <tr>\n",
       "      <th id=\"T_06d26_level0_row3\" class=\"row_heading level0 row3\" >PassengerId</th>\n",
       "      <td id=\"T_06d26_row3_col0\" class=\"data row3 col0\" >0</td>\n",
       "      <td id=\"T_06d26_row3_col1\" class=\"data row3 col1\" >0.000000</td>\n",
       "    </tr>\n",
       "    <tr>\n",
       "      <th id=\"T_06d26_level0_row4\" class=\"row_heading level0 row4\" >Survived</th>\n",
       "      <td id=\"T_06d26_row4_col0\" class=\"data row4 col0\" >0</td>\n",
       "      <td id=\"T_06d26_row4_col1\" class=\"data row4 col1\" >0.000000</td>\n",
       "    </tr>\n",
       "    <tr>\n",
       "      <th id=\"T_06d26_level0_row5\" class=\"row_heading level0 row5\" >Pclass</th>\n",
       "      <td id=\"T_06d26_row5_col0\" class=\"data row5 col0\" >0</td>\n",
       "      <td id=\"T_06d26_row5_col1\" class=\"data row5 col1\" >0.000000</td>\n",
       "    </tr>\n",
       "    <tr>\n",
       "      <th id=\"T_06d26_level0_row6\" class=\"row_heading level0 row6\" >Name</th>\n",
       "      <td id=\"T_06d26_row6_col0\" class=\"data row6 col0\" >0</td>\n",
       "      <td id=\"T_06d26_row6_col1\" class=\"data row6 col1\" >0.000000</td>\n",
       "    </tr>\n",
       "    <tr>\n",
       "      <th id=\"T_06d26_level0_row7\" class=\"row_heading level0 row7\" >Sex</th>\n",
       "      <td id=\"T_06d26_row7_col0\" class=\"data row7 col0\" >0</td>\n",
       "      <td id=\"T_06d26_row7_col1\" class=\"data row7 col1\" >0.000000</td>\n",
       "    </tr>\n",
       "    <tr>\n",
       "      <th id=\"T_06d26_level0_row8\" class=\"row_heading level0 row8\" >SibSp</th>\n",
       "      <td id=\"T_06d26_row8_col0\" class=\"data row8 col0\" >0</td>\n",
       "      <td id=\"T_06d26_row8_col1\" class=\"data row8 col1\" >0.000000</td>\n",
       "    </tr>\n",
       "    <tr>\n",
       "      <th id=\"T_06d26_level0_row9\" class=\"row_heading level0 row9\" >Parch</th>\n",
       "      <td id=\"T_06d26_row9_col0\" class=\"data row9 col0\" >0</td>\n",
       "      <td id=\"T_06d26_row9_col1\" class=\"data row9 col1\" >0.000000</td>\n",
       "    </tr>\n",
       "    <tr>\n",
       "      <th id=\"T_06d26_level0_row10\" class=\"row_heading level0 row10\" >Ticket</th>\n",
       "      <td id=\"T_06d26_row10_col0\" class=\"data row10 col0\" >0</td>\n",
       "      <td id=\"T_06d26_row10_col1\" class=\"data row10 col1\" >0.000000</td>\n",
       "    </tr>\n",
       "    <tr>\n",
       "      <th id=\"T_06d26_level0_row11\" class=\"row_heading level0 row11\" >Fare</th>\n",
       "      <td id=\"T_06d26_row11_col0\" class=\"data row11 col0\" >0</td>\n",
       "      <td id=\"T_06d26_row11_col1\" class=\"data row11 col1\" >0.000000</td>\n",
       "    </tr>\n",
       "  </tbody>\n",
       "</table>\n"
      ],
      "text/plain": [
       "<pandas.io.formats.style.Styler at 0x1fc6be3b040>"
      ]
     },
     "execution_count": 12,
     "metadata": {},
     "output_type": "execute_result"
    }
   ],
   "source": [
    "#check missing values\n",
    "#for train\n",
    "total = train_data.isnull().sum().sort_values(ascending=False)\n",
    "percent_1 = train_data.isnull().sum()/train_data.isnull().count()*100\n",
    "percent_2 = (round(percent_1, 1)).sort_values(ascending=False)\n",
    "missing_data_train = pd.concat([total, percent_2], axis=1, keys=['null train values', '%'])\n",
    "missing_data_train.style.background_gradient('viridis')"
   ]
  },
  {
   "cell_type": "markdown",
   "id": "305c1163-5f51-49d0-9640-729bdc6451ab",
   "metadata": {},
   "source": [
    "The Embarked feature has only 2 missing values, which can easily be filled. It will be much more tricky, to deal with the ‘Age’ feature, which has 177 missing values. The ‘Cabin’ feature looks like that we might want to drop it from the dataset, since 77.1 % rows of it are missing."
   ]
  },
  {
   "cell_type": "code",
   "execution_count": 13,
   "id": "da14d592-fdf8-4f3a-96ee-1c6a9097dea0",
   "metadata": {},
   "outputs": [
    {
     "data": {
      "text/html": [
       "<style type=\"text/css\">\n",
       "#T_2b969_row0_col0, #T_2b969_row0_col1 {\n",
       "  background-color: #fde725;\n",
       "  color: #000000;\n",
       "}\n",
       "#T_2b969_row1_col0, #T_2b969_row1_col1 {\n",
       "  background-color: #39558c;\n",
       "  color: #f1f1f1;\n",
       "}\n",
       "#T_2b969_row2_col0, #T_2b969_row2_col1, #T_2b969_row3_col0, #T_2b969_row3_col1, #T_2b969_row4_col0, #T_2b969_row4_col1, #T_2b969_row5_col0, #T_2b969_row5_col1, #T_2b969_row6_col0, #T_2b969_row6_col1, #T_2b969_row7_col0, #T_2b969_row7_col1, #T_2b969_row8_col0, #T_2b969_row8_col1, #T_2b969_row9_col0, #T_2b969_row9_col1, #T_2b969_row10_col0, #T_2b969_row10_col1 {\n",
       "  background-color: #440154;\n",
       "  color: #f1f1f1;\n",
       "}\n",
       "</style>\n",
       "<table id=\"T_2b969\">\n",
       "  <thead>\n",
       "    <tr>\n",
       "      <th class=\"blank level0\" >&nbsp;</th>\n",
       "      <th id=\"T_2b969_level0_col0\" class=\"col_heading level0 col0\" >null test values</th>\n",
       "      <th id=\"T_2b969_level0_col1\" class=\"col_heading level0 col1\" >%</th>\n",
       "    </tr>\n",
       "  </thead>\n",
       "  <tbody>\n",
       "    <tr>\n",
       "      <th id=\"T_2b969_level0_row0\" class=\"row_heading level0 row0\" >Cabin</th>\n",
       "      <td id=\"T_2b969_row0_col0\" class=\"data row0 col0\" >327</td>\n",
       "      <td id=\"T_2b969_row0_col1\" class=\"data row0 col1\" >78.200000</td>\n",
       "    </tr>\n",
       "    <tr>\n",
       "      <th id=\"T_2b969_level0_row1\" class=\"row_heading level0 row1\" >Age</th>\n",
       "      <td id=\"T_2b969_row1_col0\" class=\"data row1 col0\" >86</td>\n",
       "      <td id=\"T_2b969_row1_col1\" class=\"data row1 col1\" >20.600000</td>\n",
       "    </tr>\n",
       "    <tr>\n",
       "      <th id=\"T_2b969_level0_row2\" class=\"row_heading level0 row2\" >Fare</th>\n",
       "      <td id=\"T_2b969_row2_col0\" class=\"data row2 col0\" >1</td>\n",
       "      <td id=\"T_2b969_row2_col1\" class=\"data row2 col1\" >0.200000</td>\n",
       "    </tr>\n",
       "    <tr>\n",
       "      <th id=\"T_2b969_level0_row3\" class=\"row_heading level0 row3\" >PassengerId</th>\n",
       "      <td id=\"T_2b969_row3_col0\" class=\"data row3 col0\" >0</td>\n",
       "      <td id=\"T_2b969_row3_col1\" class=\"data row3 col1\" >0.000000</td>\n",
       "    </tr>\n",
       "    <tr>\n",
       "      <th id=\"T_2b969_level0_row4\" class=\"row_heading level0 row4\" >Pclass</th>\n",
       "      <td id=\"T_2b969_row4_col0\" class=\"data row4 col0\" >0</td>\n",
       "      <td id=\"T_2b969_row4_col1\" class=\"data row4 col1\" >0.000000</td>\n",
       "    </tr>\n",
       "    <tr>\n",
       "      <th id=\"T_2b969_level0_row5\" class=\"row_heading level0 row5\" >Name</th>\n",
       "      <td id=\"T_2b969_row5_col0\" class=\"data row5 col0\" >0</td>\n",
       "      <td id=\"T_2b969_row5_col1\" class=\"data row5 col1\" >0.000000</td>\n",
       "    </tr>\n",
       "    <tr>\n",
       "      <th id=\"T_2b969_level0_row6\" class=\"row_heading level0 row6\" >Sex</th>\n",
       "      <td id=\"T_2b969_row6_col0\" class=\"data row6 col0\" >0</td>\n",
       "      <td id=\"T_2b969_row6_col1\" class=\"data row6 col1\" >0.000000</td>\n",
       "    </tr>\n",
       "    <tr>\n",
       "      <th id=\"T_2b969_level0_row7\" class=\"row_heading level0 row7\" >SibSp</th>\n",
       "      <td id=\"T_2b969_row7_col0\" class=\"data row7 col0\" >0</td>\n",
       "      <td id=\"T_2b969_row7_col1\" class=\"data row7 col1\" >0.000000</td>\n",
       "    </tr>\n",
       "    <tr>\n",
       "      <th id=\"T_2b969_level0_row8\" class=\"row_heading level0 row8\" >Parch</th>\n",
       "      <td id=\"T_2b969_row8_col0\" class=\"data row8 col0\" >0</td>\n",
       "      <td id=\"T_2b969_row8_col1\" class=\"data row8 col1\" >0.000000</td>\n",
       "    </tr>\n",
       "    <tr>\n",
       "      <th id=\"T_2b969_level0_row9\" class=\"row_heading level0 row9\" >Ticket</th>\n",
       "      <td id=\"T_2b969_row9_col0\" class=\"data row9 col0\" >0</td>\n",
       "      <td id=\"T_2b969_row9_col1\" class=\"data row9 col1\" >0.000000</td>\n",
       "    </tr>\n",
       "    <tr>\n",
       "      <th id=\"T_2b969_level0_row10\" class=\"row_heading level0 row10\" >Embarked</th>\n",
       "      <td id=\"T_2b969_row10_col0\" class=\"data row10 col0\" >0</td>\n",
       "      <td id=\"T_2b969_row10_col1\" class=\"data row10 col1\" >0.000000</td>\n",
       "    </tr>\n",
       "  </tbody>\n",
       "</table>\n"
      ],
      "text/plain": [
       "<pandas.io.formats.style.Styler at 0x1fc6986fc70>"
      ]
     },
     "execution_count": 13,
     "metadata": {},
     "output_type": "execute_result"
    }
   ],
   "source": [
    "#check missing values\n",
    "#for test\n",
    "total = test_data.isnull().sum().sort_values(ascending=False)\n",
    "percent_1 = test_data.isnull().sum()/test_data.isnull().count()*100\n",
    "percent_2 = (round(percent_1, 1)).sort_values(ascending=False)\n",
    "missing_data_test = pd.concat([total, percent_2], axis=1, keys=['null test values', '%'])\n",
    "missing_data_test.style.background_gradient('viridis')"
   ]
  },
  {
   "cell_type": "markdown",
   "id": "fd18f67e-286e-4087-b0ee-4a141d2e406b",
   "metadata": {},
   "source": [
    "The Fare feature will be easy to deal with since it has only 1 missing values,but Cabin and Age features are much more complicated because they have respectively 327 and 86 missing values.it's seems that we gonna drop the Cabin feature since 78.2% values are missings."
   ]
  },
  {
   "cell_type": "markdown",
   "id": "ab14242d-81ba-4c39-8837-4789850e6389",
   "metadata": {},
   "source": [
    "## Data visualization"
   ]
  },
  {
   "cell_type": "markdown",
   "id": "f5085799-e8e7-486b-ba74-5d6a026bd022",
   "metadata": {},
   "source": [
    "Now let's make some plots to visualize our features:"
   ]
  },
  {
   "cell_type": "code",
   "execution_count": 14,
   "id": "267320f5-74da-46d3-b1a0-d68aa9dbc157",
   "metadata": {},
   "outputs": [
    {
     "data": {
      "text/plain": [
       "<AxesSubplot: xlabel='Sex', ylabel='Survived'>"
      ]
     },
     "execution_count": 14,
     "metadata": {},
     "output_type": "execute_result"
    },
    {
     "data": {
      "image/png": "[encoded data removed]",
      "text/plain": [
       "<Figure size 640x480 with 1 Axes>"
      ]
     },
     "metadata": {},
     "output_type": "display_data"
    }
   ],
   "source": [
    "#Sex\n",
    "sns.barplot(x='Sex', y='Survived', data=train_data)"
   ]
  },
  {
   "cell_type": "markdown",
   "id": "4e1d16c8-2ab3-4de5-86f4-1c828d35831a",
   "metadata": {},
   "source": [
    "We can see cleary that female have a high probability of survival then male"
   ]
  },
  {
   "cell_type": "code",
   "execution_count": 15,
   "id": "1b21800a-b57a-4ba4-b1c9-4c27344510ba",
   "metadata": {},
   "outputs": [
    {
     "data": {
      "text/plain": [
       "<AxesSubplot: xlabel='Pclass', ylabel='Survived'>"
      ]
     },
     "execution_count": 15,
     "metadata": {},
     "output_type": "execute_result"
    },
    {
     "data": {
      "image/png": "[encoded data removed]",
      "text/plain": [
       "<Figure size 640x480 with 1 Axes>"
      ]
     },
     "metadata": {},
     "output_type": "display_data"
    }
   ],
   "source": [
    "#Pclass\n",
    "sns.barplot(x='Pclass', y='Survived', data=train_data)"
   ]
  },
  {
   "cell_type": "markdown",
   "id": "87804f5f-9870-4a43-8dd5-eddedbd273b0",
   "metadata": {},
   "source": [
    "From the graph above,we see clearly, if a person is in class 1 ,he has a higher chance of survival.\n",
    "To confirm our assumption about pclass 1, we will create another pclass plot below:\n"
   ]
  },
  {
   "cell_type": "code",
   "execution_count": 16,
   "id": "6a496adb-2a02-4f77-946a-05f5edc2ba59",
   "metadata": {},
   "outputs": [
    {
     "data": {
      "text/plain": [
       "<seaborn.axisgrid.FacetGrid at 0x1fc6d596110>"
      ]
     },
     "execution_count": 16,
     "metadata": {},
     "output_type": "execute_result"
    },
    {
     "data": {
      "image/png": "[encoded data removed]",
      "text/plain": [
       "<Figure size 971.111x900 with 6 Axes>"
      ]
     },
     "metadata": {},
     "output_type": "display_data"
    }
   ],
   "source": [
    "grid = sns.FacetGrid(train_data, col='Survived', row='Pclass', aspect=1.6)\n",
    "grid.map(plt.hist, 'Age', alpha=0.5, bins=20)\n",
    "grid.add_legend()"
   ]
  },
  {
   "cell_type": "markdown",
   "id": "b9b1bc27-22f5-4a2b-9187-9be3c978e990",
   "metadata": {},
   "source": [
    "We notice also that if a person is in pclass 3 ,he will not survive."
   ]
  },
  {
   "cell_type": "code",
   "execution_count": 17,
   "id": "c5112c91-d6cc-460c-9d97-a5b1909dd0fd",
   "metadata": {},
   "outputs": [
    {
     "name": "stderr",
     "output_type": "stream",
     "text": [
      "C:\\Users\\pc\\AppData\\Local\\Programs\\Python\\Python310\\lib\\site-packages\\seaborn\\axisgrid.py:712: UserWarning: Using the pointplot function without specifying `order` is likely to produce an incorrect plot.\n",
      "  warnings.warn(warning)\n",
      "C:\\Users\\pc\\AppData\\Local\\Programs\\Python\\Python310\\lib\\site-packages\\seaborn\\axisgrid.py:717: UserWarning: Using the pointplot function without specifying `hue_order` is likely to produce an incorrect plot.\n",
      "  warnings.warn(warning)\n"
     ]
    },
    {
     "data": {
      "text/plain": [
       "<seaborn.axisgrid.FacetGrid at 0x1fc6be39d20>"
      ]
     },
     "execution_count": 17,
     "metadata": {},
     "output_type": "execute_result"
    },
    {
     "data": {
      "image/png": "[encoded data removed]",
      "text/plain": [
       "<Figure size 578x900 with 3 Axes>"
      ]
     },
     "metadata": {},
     "output_type": "display_data"
    }
   ],
   "source": [
    "#Embarked, Pclass and Sex\n",
    "FacetGrid = sns.FacetGrid(train_data, row='Embarked', aspect=1.6)\n",
    "FacetGrid.map(sns.pointplot, 'Pclass', 'Survived', 'Sex')\n",
    "FacetGrid.add_legend()"
   ]
  },
  {
   "cell_type": "markdown",
   "id": "02dd48d2-d6a9-4341-b72d-b47a9752bdaa",
   "metadata": {},
   "source": [
    "Men have a high survival probability if they are on port C, but a low probability if they are on port Q or S.\n",
    "Women have a high survival probability if they are on port Q and on port S, but a low probability if they are on port C.\n"
   ]
  },
  {
   "cell_type": "markdown",
   "id": "72bfa390-a866-423a-88e9-bcf418aaa308",
   "metadata": {},
   "source": [
    "## Data Preprocessing"
   ]
  },
  {
   "cell_type": "markdown",
   "id": "42534c31-b885-4bcc-b982-5f29e47f0c43",
   "metadata": {},
   "source": [
    "First of all, we gonna drop the unused columns like PassengerId and Ticket, from the train set, because it does not contribute to a persons survival probability. but for test set we will not drop the PassengerId column,since it is required there for the submission.Then we gonna drop the Cabin feature from the train and test data because it has 77.1% missing values in train data and 78.2% in test data "
   ]
  },
  {
   "cell_type": "code",
   "execution_count": 18,
   "id": "8eac336b-f5ef-4d5f-8f91-8ec71a86c327",
   "metadata": {},
   "outputs": [],
   "source": [
    "#drop unused columns from training data\n",
    "train_data.drop(['PassengerId','Ticket','Cabin'],axis=1,inplace=True)\n",
    "#drop unused columns from test data\n",
    "test_data.drop(['Ticket','Cabin'],axis=1,inplace=True)"
   ]
  },
  {
   "cell_type": "markdown",
   "id": "91e4e0cf-2c3d-401f-88af-3c7844a11784",
   "metadata": {},
   "source": [
    "As a reminder, we have to deal with the messing data,but we must fist split our data into numerical and categorical features.So,"
   ]
  },
  {
   "cell_type": "code",
   "execution_count": 19,
   "id": "6cf1f9ae-27ae-41bb-bcdf-c9b97c0cd8c2",
   "metadata": {},
   "outputs": [],
   "source": [
    "\n",
    "num_columns_selector = selector(dtype_exclude=object)\n",
    "cat_columns_selector = selector(dtype_include=object)\n",
    "\n",
    "#train\n",
    "num_col_train=num_columns_selector(train_data)\n",
    "cat_col_train=cat_columns_selector(train_data)\n",
    "\n",
    "#test\n",
    "num_col_test=num_columns_selector(test_data)\n",
    "cat_col_test=cat_columns_selector(test_data)"
   ]
  },
  {
   "cell_type": "markdown",
   "id": "a6e1d56e-04b6-4028-96fa-18bb56d79c7b",
   "metadata": {},
   "source": [
    "- #### Starting with numerical features:"
   ]
  },
  {
   "cell_type": "code",
   "execution_count": 20,
   "id": "c5a7a495-5ffd-462b-bdb4-ab95c309ff20",
   "metadata": {},
   "outputs": [
    {
     "data": {
      "text/html": [
       "<style type=\"text/css\">\n",
       "#T_bc7e9_row0_col0 {\n",
       "  background-color: #fde725;\n",
       "  color: #000000;\n",
       "}\n",
       "#T_bc7e9_row1_col0, #T_bc7e9_row2_col0, #T_bc7e9_row3_col0, #T_bc7e9_row4_col0, #T_bc7e9_row5_col0 {\n",
       "  background-color: #440154;\n",
       "  color: #f1f1f1;\n",
       "}\n",
       "</style>\n",
       "<table id=\"T_bc7e9\">\n",
       "  <thead>\n",
       "    <tr>\n",
       "      <th class=\"blank level0\" >&nbsp;</th>\n",
       "      <th id=\"T_bc7e9_level0_col0\" class=\"col_heading level0 col0\" >Count null train_numeric values</th>\n",
       "    </tr>\n",
       "    <tr>\n",
       "      <th class=\"index_name level0\" >Train_numeric features</th>\n",
       "      <th class=\"blank col0\" >&nbsp;</th>\n",
       "    </tr>\n",
       "  </thead>\n",
       "  <tbody>\n",
       "    <tr>\n",
       "      <th id=\"T_bc7e9_level0_row0\" class=\"row_heading level0 row0\" >Age</th>\n",
       "      <td id=\"T_bc7e9_row0_col0\" class=\"data row0 col0\" >177</td>\n",
       "    </tr>\n",
       "    <tr>\n",
       "      <th id=\"T_bc7e9_level0_row1\" class=\"row_heading level0 row1\" >Survived</th>\n",
       "      <td id=\"T_bc7e9_row1_col0\" class=\"data row1 col0\" >0</td>\n",
       "    </tr>\n",
       "    <tr>\n",
       "      <th id=\"T_bc7e9_level0_row2\" class=\"row_heading level0 row2\" >Pclass</th>\n",
       "      <td id=\"T_bc7e9_row2_col0\" class=\"data row2 col0\" >0</td>\n",
       "    </tr>\n",
       "    <tr>\n",
       "      <th id=\"T_bc7e9_level0_row3\" class=\"row_heading level0 row3\" >SibSp</th>\n",
       "      <td id=\"T_bc7e9_row3_col0\" class=\"data row3 col0\" >0</td>\n",
       "    </tr>\n",
       "    <tr>\n",
       "      <th id=\"T_bc7e9_level0_row4\" class=\"row_heading level0 row4\" >Parch</th>\n",
       "      <td id=\"T_bc7e9_row4_col0\" class=\"data row4 col0\" >0</td>\n",
       "    </tr>\n",
       "    <tr>\n",
       "      <th id=\"T_bc7e9_level0_row5\" class=\"row_heading level0 row5\" >Fare</th>\n",
       "      <td id=\"T_bc7e9_row5_col0\" class=\"data row5 col0\" >0</td>\n",
       "    </tr>\n",
       "  </tbody>\n",
       "</table>\n"
      ],
      "text/plain": [
       "<pandas.io.formats.style.Styler at 0x1fc6e307b80>"
      ]
     },
     "execution_count": 20,
     "metadata": {},
     "output_type": "execute_result"
    }
   ],
   "source": [
    "#train\n",
    "null_val_numeric = pd.DataFrame(train_data[num_col_train].isnull().sum().sort_values(ascending=False))\n",
    "null_val_numeric.columns = ['Count null train_numeric values']\n",
    "null_val_numeric.index.name = 'Train_numeric features'\n",
    "null_val_numeric.style.background_gradient('viridis')"
   ]
  },
  {
   "cell_type": "markdown",
   "id": "71b8c985-a878-4555-96ee-89fc647915ea",
   "metadata": {},
   "source": [
    "As we see here,there are 177 missing values for age column.let's deal with it by replacing those missing values"
   ]
  },
  {
   "cell_type": "code",
   "execution_count": 21,
   "id": "0b999ca9-e654-477e-9743-42ee5153596c",
   "metadata": {},
   "outputs": [
    {
     "data": {
      "text/html": [
       "<div>\n",
       "<style scoped>\n",
       "    .dataframe tbody tr th:only-of-type {\n",
       "        vertical-align: middle;\n",
       "    }\n",
       "\n",
       "    .dataframe tbody tr th {\n",
       "        vertical-align: top;\n",
       "    }\n",
       "\n",
       "    .dataframe thead th {\n",
       "        text-align: right;\n",
       "    }\n",
       "</style>\n",
       "<table border=\"1\" class=\"dataframe\">\n",
       "  <thead>\n",
       "    <tr style=\"text-align: right;\">\n",
       "      <th></th>\n",
       "      <th>count</th>\n",
       "      <th>mean</th>\n",
       "      <th>std</th>\n",
       "      <th>min</th>\n",
       "      <th>25%</th>\n",
       "      <th>50%</th>\n",
       "      <th>75%</th>\n",
       "      <th>max</th>\n",
       "    </tr>\n",
       "  </thead>\n",
       "  <tbody>\n",
       "    <tr>\n",
       "      <th>Age</th>\n",
       "      <td>714.0</td>\n",
       "      <td>29.699118</td>\n",
       "      <td>14.526497</td>\n",
       "      <td>0.42</td>\n",
       "      <td>20.125</td>\n",
       "      <td>28.0</td>\n",
       "      <td>38.0</td>\n",
       "      <td>80.0</td>\n",
       "    </tr>\n",
       "  </tbody>\n",
       "</table>\n",
       "</div>"
      ],
      "text/plain": [
       "     count       mean        std   min     25%   50%   75%   max\n",
       "Age  714.0  29.699118  14.526497  0.42  20.125  28.0  38.0  80.0"
      ]
     },
     "metadata": {},
     "output_type": "display_data"
    },
    {
     "name": "stdout",
     "output_type": "stream",
     "text": [
      "--------------------------------------------------------\n",
      "Mode:\n",
      " 0    24.0\n",
      "Name: Age, dtype: float64\n"
     ]
    }
   ],
   "source": [
    "display(pd.DataFrame(train_data[['Age']].describe().T))\n",
    "print('--------------------------------------------------------')\n",
    "print('Mode:\\n',train_data['Age'].mode())"
   ]
  },
  {
   "cell_type": "code",
   "execution_count": 22,
   "id": "21e2799d-285e-4555-a776-ca772d6877a4",
   "metadata": {},
   "outputs": [
    {
     "data": {
      "text/plain": [
       "0"
      ]
     },
     "execution_count": 22,
     "metadata": {},
     "output_type": "execute_result"
    }
   ],
   "source": [
    "#replacing missing values by using median of age\n",
    "train_data['Age']=train_data['Age'].fillna(train_data['Age'].mean())\n",
    "#check\n",
    "sum(train_data[num_col_train].isnull().sum())"
   ]
  },
  {
   "cell_type": "code",
   "execution_count": 23,
   "id": "5f490d3f-8b04-4eea-8f38-13d1aee0d6ac",
   "metadata": {},
   "outputs": [
    {
     "data": {
      "text/html": [
       "<style type=\"text/css\">\n",
       "#T_ff268_row0_col0 {\n",
       "  background-color: #fde725;\n",
       "  color: #000000;\n",
       "}\n",
       "#T_ff268_row1_col0 {\n",
       "  background-color: #450457;\n",
       "  color: #f1f1f1;\n",
       "}\n",
       "#T_ff268_row2_col0, #T_ff268_row3_col0, #T_ff268_row4_col0, #T_ff268_row5_col0 {\n",
       "  background-color: #440154;\n",
       "  color: #f1f1f1;\n",
       "}\n",
       "</style>\n",
       "<table id=\"T_ff268\">\n",
       "  <thead>\n",
       "    <tr>\n",
       "      <th class=\"blank level0\" >&nbsp;</th>\n",
       "      <th id=\"T_ff268_level0_col0\" class=\"col_heading level0 col0\" >Count null test_numeric values</th>\n",
       "    </tr>\n",
       "    <tr>\n",
       "      <th class=\"index_name level0\" >Test_numeric features</th>\n",
       "      <th class=\"blank col0\" >&nbsp;</th>\n",
       "    </tr>\n",
       "  </thead>\n",
       "  <tbody>\n",
       "    <tr>\n",
       "      <th id=\"T_ff268_level0_row0\" class=\"row_heading level0 row0\" >Age</th>\n",
       "      <td id=\"T_ff268_row0_col0\" class=\"data row0 col0\" >86</td>\n",
       "    </tr>\n",
       "    <tr>\n",
       "      <th id=\"T_ff268_level0_row1\" class=\"row_heading level0 row1\" >Fare</th>\n",
       "      <td id=\"T_ff268_row1_col0\" class=\"data row1 col0\" >1</td>\n",
       "    </tr>\n",
       "    <tr>\n",
       "      <th id=\"T_ff268_level0_row2\" class=\"row_heading level0 row2\" >PassengerId</th>\n",
       "      <td id=\"T_ff268_row2_col0\" class=\"data row2 col0\" >0</td>\n",
       "    </tr>\n",
       "    <tr>\n",
       "      <th id=\"T_ff268_level0_row3\" class=\"row_heading level0 row3\" >Pclass</th>\n",
       "      <td id=\"T_ff268_row3_col0\" class=\"data row3 col0\" >0</td>\n",
       "    </tr>\n",
       "    <tr>\n",
       "      <th id=\"T_ff268_level0_row4\" class=\"row_heading level0 row4\" >SibSp</th>\n",
       "      <td id=\"T_ff268_row4_col0\" class=\"data row4 col0\" >0</td>\n",
       "    </tr>\n",
       "    <tr>\n",
       "      <th id=\"T_ff268_level0_row5\" class=\"row_heading level0 row5\" >Parch</th>\n",
       "      <td id=\"T_ff268_row5_col0\" class=\"data row5 col0\" >0</td>\n",
       "    </tr>\n",
       "  </tbody>\n",
       "</table>\n"
      ],
      "text/plain": [
       "<pandas.io.formats.style.Styler at 0x1fc6986d6f0>"
      ]
     },
     "execution_count": 23,
     "metadata": {},
     "output_type": "execute_result"
    }
   ],
   "source": [
    "#test\n",
    "null_val_numeric = pd.DataFrame(test_data[num_col_test].isnull().sum().sort_values(ascending=False))\n",
    "null_val_numeric.columns = ['Count null test_numeric values']\n",
    "null_val_numeric.index.name = 'Test_numeric features'\n",
    "null_val_numeric.style.background_gradient('viridis')"
   ]
  },
  {
   "cell_type": "markdown",
   "id": "a2917481-84e8-4dce-b587-7b2ca6e896d8",
   "metadata": {},
   "source": [
    "From the above result,we notice that the following columns Age and Fare have null values which are respectively 86,1 and 8. So we we must handle them"
   ]
  },
  {
   "cell_type": "code",
   "execution_count": 24,
   "id": "971b3c67-5512-46e8-88c0-8afa78e918d6",
   "metadata": {},
   "outputs": [
    {
     "name": "stdout",
     "output_type": "stream",
     "text": [
      "----------------------------Age-------------------------------------\n"
     ]
    },
    {
     "data": {
      "text/html": [
       "<div>\n",
       "<style scoped>\n",
       "    .dataframe tbody tr th:only-of-type {\n",
       "        vertical-align: middle;\n",
       "    }\n",
       "\n",
       "    .dataframe tbody tr th {\n",
       "        vertical-align: top;\n",
       "    }\n",
       "\n",
       "    .dataframe thead th {\n",
       "        text-align: right;\n",
       "    }\n",
       "</style>\n",
       "<table border=\"1\" class=\"dataframe\">\n",
       "  <thead>\n",
       "    <tr style=\"text-align: right;\">\n",
       "      <th></th>\n",
       "      <th>count</th>\n",
       "      <th>mean</th>\n",
       "      <th>std</th>\n",
       "      <th>min</th>\n",
       "      <th>25%</th>\n",
       "      <th>50%</th>\n",
       "      <th>75%</th>\n",
       "      <th>max</th>\n",
       "    </tr>\n",
       "  </thead>\n",
       "  <tbody>\n",
       "    <tr>\n",
       "      <th>Age</th>\n",
       "      <td>332.0</td>\n",
       "      <td>30.27259</td>\n",
       "      <td>14.181209</td>\n",
       "      <td>0.17</td>\n",
       "      <td>21.0</td>\n",
       "      <td>27.0</td>\n",
       "      <td>39.0</td>\n",
       "      <td>76.0</td>\n",
       "    </tr>\n",
       "  </tbody>\n",
       "</table>\n",
       "</div>"
      ],
      "text/plain": [
       "     count      mean        std   min   25%   50%   75%   max\n",
       "Age  332.0  30.27259  14.181209  0.17  21.0  27.0  39.0  76.0"
      ]
     },
     "metadata": {},
     "output_type": "display_data"
    },
    {
     "name": "stdout",
     "output_type": "stream",
     "text": [
      "Mode:\n",
      " 0    21.0\n",
      "1    24.0\n",
      "Name: Age, dtype: float64\n",
      "----------------------------Fare--------------------------------------\n"
     ]
    },
    {
     "data": {
      "text/html": [
       "<div>\n",
       "<style scoped>\n",
       "    .dataframe tbody tr th:only-of-type {\n",
       "        vertical-align: middle;\n",
       "    }\n",
       "\n",
       "    .dataframe tbody tr th {\n",
       "        vertical-align: top;\n",
       "    }\n",
       "\n",
       "    .dataframe thead th {\n",
       "        text-align: right;\n",
       "    }\n",
       "</style>\n",
       "<table border=\"1\" class=\"dataframe\">\n",
       "  <thead>\n",
       "    <tr style=\"text-align: right;\">\n",
       "      <th></th>\n",
       "      <th>count</th>\n",
       "      <th>mean</th>\n",
       "      <th>std</th>\n",
       "      <th>min</th>\n",
       "      <th>25%</th>\n",
       "      <th>50%</th>\n",
       "      <th>75%</th>\n",
       "      <th>max</th>\n",
       "    </tr>\n",
       "  </thead>\n",
       "  <tbody>\n",
       "    <tr>\n",
       "      <th>Fare</th>\n",
       "      <td>417.0</td>\n",
       "      <td>35.627188</td>\n",
       "      <td>55.907576</td>\n",
       "      <td>0.0</td>\n",
       "      <td>7.8958</td>\n",
       "      <td>14.4542</td>\n",
       "      <td>31.5</td>\n",
       "      <td>512.3292</td>\n",
       "    </tr>\n",
       "  </tbody>\n",
       "</table>\n",
       "</div>"
      ],
      "text/plain": [
       "      count       mean        std  min     25%      50%   75%       max\n",
       "Fare  417.0  35.627188  55.907576  0.0  7.8958  14.4542  31.5  512.3292"
      ]
     },
     "metadata": {},
     "output_type": "display_data"
    },
    {
     "name": "stdout",
     "output_type": "stream",
     "text": [
      "Mode:\n",
      " 0    7.75\n",
      "Name: Fare, dtype: float64\n"
     ]
    }
   ],
   "source": [
    "print('----------------------------Age-------------------------------------')\n",
    "display(pd.DataFrame(test_data[['Age']].describe().T))\n",
    "print('Mode:\\n',test_data['Age'].mode())\n",
    "\n",
    "print('----------------------------Fare--------------------------------------')\n",
    "display(pd.DataFrame(test_data[['Fare']].describe().T))\n",
    "print('Mode:\\n',test_data['Fare'].mode())"
   ]
  },
  {
   "cell_type": "code",
   "execution_count": 25,
   "id": "c55fe275-93bf-4c0a-a44e-8c4e74f1b785",
   "metadata": {},
   "outputs": [
    {
     "data": {
      "text/plain": [
       "0"
      ]
     },
     "execution_count": 25,
     "metadata": {},
     "output_type": "execute_result"
    }
   ],
   "source": [
    "#replacing missing values by using median \n",
    "test_data['Age']=test_data['Age'].fillna(test_data['Age'].mean())\n",
    "test_data['Fare']=test_data['Fare'].fillna(test_data['Fare'].median())\n",
    "#check\n",
    "sum(test_data[num_col_test].isnull().sum())"
   ]
  },
  {
   "cell_type": "markdown",
   "id": "3343c432-3046-4e80-9d61-30f43c9bfaf6",
   "metadata": {},
   "source": [
    "- #### let's deal with categorical columns:"
   ]
  },
  {
   "cell_type": "code",
   "execution_count": 26,
   "id": "b3cb3aad-94be-4b4a-865c-5f9cc0c776df",
   "metadata": {},
   "outputs": [
    {
     "data": {
      "text/html": [
       "<style type=\"text/css\">\n",
       "#T_d35fb_row0_col0 {\n",
       "  background-color: #fde725;\n",
       "  color: #000000;\n",
       "}\n",
       "#T_d35fb_row1_col0, #T_d35fb_row2_col0 {\n",
       "  background-color: #440154;\n",
       "  color: #f1f1f1;\n",
       "}\n",
       "</style>\n",
       "<table id=\"T_d35fb\">\n",
       "  <thead>\n",
       "    <tr>\n",
       "      <th class=\"blank level0\" >&nbsp;</th>\n",
       "      <th id=\"T_d35fb_level0_col0\" class=\"col_heading level0 col0\" >Count null train_categorical values</th>\n",
       "    </tr>\n",
       "    <tr>\n",
       "      <th class=\"index_name level0\" >Train_categorical features</th>\n",
       "      <th class=\"blank col0\" >&nbsp;</th>\n",
       "    </tr>\n",
       "  </thead>\n",
       "  <tbody>\n",
       "    <tr>\n",
       "      <th id=\"T_d35fb_level0_row0\" class=\"row_heading level0 row0\" >Embarked</th>\n",
       "      <td id=\"T_d35fb_row0_col0\" class=\"data row0 col0\" >2</td>\n",
       "    </tr>\n",
       "    <tr>\n",
       "      <th id=\"T_d35fb_level0_row1\" class=\"row_heading level0 row1\" >Name</th>\n",
       "      <td id=\"T_d35fb_row1_col0\" class=\"data row1 col0\" >0</td>\n",
       "    </tr>\n",
       "    <tr>\n",
       "      <th id=\"T_d35fb_level0_row2\" class=\"row_heading level0 row2\" >Sex</th>\n",
       "      <td id=\"T_d35fb_row2_col0\" class=\"data row2 col0\" >0</td>\n",
       "    </tr>\n",
       "  </tbody>\n",
       "</table>\n"
      ],
      "text/plain": [
       "<pandas.io.formats.style.Styler at 0x1fc6986cc40>"
      ]
     },
     "execution_count": 26,
     "metadata": {},
     "output_type": "execute_result"
    }
   ],
   "source": [
    "#train\n",
    "null_val_categ = pd.DataFrame(train_data[cat_col_train].isnull().sum().sort_values(ascending=False)[:30])\n",
    "null_val_categ.columns = ['Count null train_categorical values']\n",
    "null_val_categ.index.name = 'Train_categorical features'\n",
    "null_val_categ.style.background_gradient('viridis')"
   ]
  },
  {
   "cell_type": "markdown",
   "id": "ee1d0e66-8d6e-4699-b02c-c423575be633",
   "metadata": {},
   "source": [
    "As we see here, the following column Embarked has null values which is 2.let's trait those 2 missing values"
   ]
  },
  {
   "cell_type": "code",
   "execution_count": 27,
   "id": "b9605750-2851-4cb1-bfa3-0e4e91c40aa4",
   "metadata": {},
   "outputs": [],
   "source": [
    "#replacing missing values by using the mode(most frequent) \n",
    "train_data['Embarked']=train_data['Embarked'].fillna(train_data['Embarked'].mode()[0])"
   ]
  },
  {
   "cell_type": "code",
   "execution_count": 28,
   "id": "1df98fc2-11c3-4b01-b51e-16e7c70143a9",
   "metadata": {},
   "outputs": [
    {
     "data": {
      "text/html": [
       "<style type=\"text/css\">\n",
       "#T_c74a7_row0_col0, #T_c74a7_row1_col0, #T_c74a7_row2_col0 {\n",
       "  background-color: #440154;\n",
       "  color: #f1f1f1;\n",
       "}\n",
       "</style>\n",
       "<table id=\"T_c74a7\">\n",
       "  <thead>\n",
       "    <tr>\n",
       "      <th class=\"blank level0\" >&nbsp;</th>\n",
       "      <th id=\"T_c74a7_level0_col0\" class=\"col_heading level0 col0\" >Count null test_categorical values</th>\n",
       "    </tr>\n",
       "    <tr>\n",
       "      <th class=\"index_name level0\" >Test_categorical features</th>\n",
       "      <th class=\"blank col0\" >&nbsp;</th>\n",
       "    </tr>\n",
       "  </thead>\n",
       "  <tbody>\n",
       "    <tr>\n",
       "      <th id=\"T_c74a7_level0_row0\" class=\"row_heading level0 row0\" >Name</th>\n",
       "      <td id=\"T_c74a7_row0_col0\" class=\"data row0 col0\" >0</td>\n",
       "    </tr>\n",
       "    <tr>\n",
       "      <th id=\"T_c74a7_level0_row1\" class=\"row_heading level0 row1\" >Sex</th>\n",
       "      <td id=\"T_c74a7_row1_col0\" class=\"data row1 col0\" >0</td>\n",
       "    </tr>\n",
       "    <tr>\n",
       "      <th id=\"T_c74a7_level0_row2\" class=\"row_heading level0 row2\" >Embarked</th>\n",
       "      <td id=\"T_c74a7_row2_col0\" class=\"data row2 col0\" >0</td>\n",
       "    </tr>\n",
       "  </tbody>\n",
       "</table>\n"
      ],
      "text/plain": [
       "<pandas.io.formats.style.Styler at 0x1fc6986c880>"
      ]
     },
     "execution_count": 28,
     "metadata": {},
     "output_type": "execute_result"
    }
   ],
   "source": [
    "#test\n",
    "null_val_categ = pd.DataFrame(test_data[cat_col_test].isnull().sum().sort_values(ascending=False)[:30])\n",
    "null_val_categ.columns = ['Count null test_categorical values']\n",
    "null_val_categ.index.name = 'Test_categorical features'\n",
    "null_val_categ.style.background_gradient('viridis')"
   ]
  },
  {
   "cell_type": "markdown",
   "id": "2882e475-fb36-4795-ae7b-e3291238ab7f",
   "metadata": {},
   "source": [
    "We notice that there are not missing values."
   ]
  },
  {
   "cell_type": "code",
   "execution_count": 29,
   "id": "bb57dc6e-b34a-49c5-9fc9-dcc8a81d8339",
   "metadata": {},
   "outputs": [
    {
     "name": "stdout",
     "output_type": "stream",
     "text": [
      "1.0    537\n",
      "0.0    354\n",
      "Name: not_alone, dtype: int64\n",
      "1.0    253\n",
      "0.0    165\n",
      "Name: not_alone, dtype: int64\n"
     ]
    }
   ],
   "source": [
    "data=[train_data,test_data]\n",
    "for d in data:\n",
    "    d['family'] = d['SibSp'] + d['Parch']\n",
    "    d.loc[d['family'] > 0, 'not_alone'] = 0\n",
    "    d.loc[d['family'] == 0, 'not_alone'] = 1\n",
    "    \n",
    "print(train_data['not_alone'].value_counts())\n",
    "print(test_data['not_alone'].value_counts())\n",
    "\n",
    "train_data.drop(['SibSp','Parch'],axis=1,inplace=True)\n",
    "test_data.drop(['SibSp','Parch'],axis=1,inplace=True)"
   ]
  },
  {
   "cell_type": "code",
   "execution_count": 30,
   "id": "1beb33db-5a77-4376-8b81-57e33e43dc32",
   "metadata": {},
   "outputs": [
    {
     "data": {
      "text/plain": [
       "<AxesSubplot: xlabel='family', ylabel='Survived'>"
      ]
     },
     "execution_count": 30,
     "metadata": {},
     "output_type": "execute_result"
    },
    {
     "data": {
      "image/png": "[encoded data removed]",
      "text/plain": [
       "<Figure size 640x480 with 1 Axes>"
      ]
     },
     "metadata": {},
     "output_type": "display_data"
    }
   ],
   "source": [
    "sns.barplot(x='family',y='Survived',data=train_data)"
   ]
  },
  {
   "cell_type": "markdown",
   "id": "367543ae-e0e6-4305-85ea-489a9740d404",
   "metadata": {},
   "source": [
    "Here we note a high probabilty of survival with 1 to 3 realitves, but a lower one if you had less than 1 or more than 3."
   ]
  },
  {
   "cell_type": "markdown",
   "id": "60f2acdf-a7dd-4622-ac16-5e281c2fb9e9",
   "metadata": {},
   "source": [
    "We will use the Name feature to extract the Titles from the Name, so that we can build a new feature out of that."
   ]
  },
  {
   "cell_type": "code",
   "execution_count": 31,
   "id": "d321e244-d59d-4514-bea4-7075bcdab9e9",
   "metadata": {},
   "outputs": [],
   "source": [
    "data=[train_data,test_data]\n",
    "for d in data:\n",
    "    # extract titles\n",
    "    d['Title'] = d['Name'].str.extract(' ([A-Za-z]+)\\.', expand=False)\n",
    "    d['Title'] = d['Title'].replace(['Lady', 'Countess','Capt', 'Col','Don', 'Dr','Major', 'Rev', 'Sir', 'Jonkheer', 'Dona'], 'Rare')\n",
    "    \n",
    "    d['Title'] = d['Title'].replace(['Mlle','Ms'], 'Miss')\n",
    "    d['Title'] = d['Title'].replace('Mme', 'Mrs')\n",
    "    \n",
    "#drop name column    \n",
    "train_data = train_data.drop(['Name'], axis=1)\n",
    "test_data = test_data.drop(['Name'], axis=1)"
   ]
  },
  {
   "cell_type": "code",
   "execution_count": 32,
   "id": "56037736-302a-4a0c-8011-5cfd405738b0",
   "metadata": {},
   "outputs": [
    {
     "data": {
      "text/plain": [
       "Text(0.5, 25.581597222222214, 'test data')"
      ]
     },
     "execution_count": 32,
     "metadata": {},
     "output_type": "execute_result"
    },
    {
     "data": {
      "image/png": "[encoded data removed]",
      "text/plain": [
       "<Figure size 1000x500 with 4 Axes>"
      ]
     },
     "metadata": {},
     "output_type": "display_data"
    }
   ],
   "source": [
    "#Check all\n",
    "fig,ax=plt.subplots(1,2,figsize=(10,5))\n",
    "sns.heatmap(train_data.isnull(),ax=ax[0],cmap=sns.cubehelix_palette(as_cmap=True))\n",
    "ax[0].set_xlabel('train data')\n",
    "sns.heatmap(test_data.isnull(), ax=ax[1],cmap=sns.cubehelix_palette(as_cmap=True))\n",
    "ax[1].set_xlabel('test data')\n"
   ]
  },
  {
   "cell_type": "markdown",
   "id": "845f092a-5a08-4b9f-8cb4-22cb7b1efac2",
   "metadata": {},
   "source": [
    "All missing values were handled successfully"
   ]
  },
  {
   "cell_type": "markdown",
   "id": "79776ed8-5f1e-4b88-ae94-0207aaa6f5f8",
   "metadata": {},
   "source": [
    "## Encoding categorical data"
   ]
  },
  {
   "cell_type": "code",
   "execution_count": 33,
   "id": "ccc3fc61-7bf6-4280-a811-60d03d688c17",
   "metadata": {},
   "outputs": [],
   "source": [
    "#train\n",
    "num_col_train=num_columns_selector(train_data)\n",
    "cat_col_train=cat_columns_selector(train_data)\n",
    "\n",
    "#test\n",
    "num_col_test=num_columns_selector(test_data)\n",
    "cat_col_test=cat_columns_selector(test_data)"
   ]
  },
  {
   "cell_type": "code",
   "execution_count": 34,
   "id": "5e819d60-45e8-4b0b-8f1f-a6486ff47144",
   "metadata": {},
   "outputs": [
    {
     "data": {
      "text/plain": [
       "(['Sex', 'Embarked', 'Title'], ['Sex', 'Embarked', 'Title'])"
      ]
     },
     "execution_count": 34,
     "metadata": {},
     "output_type": "execute_result"
    }
   ],
   "source": [
    "cat_col_train,cat_col_test"
   ]
  },
  {
   "cell_type": "markdown",
   "id": "612ca5ab-3a30-4371-a0e5-ada310b1981f",
   "metadata": {},
   "source": [
    "So we must convert those columns Sex,Embarked and Title:"
   ]
  },
  {
   "cell_type": "code",
   "execution_count": 35,
   "id": "d6609bf1-f1c7-4017-a0e7-a67a2f26002b",
   "metadata": {},
   "outputs": [],
   "source": [
    "\n",
    "data=[train_data,test_data]\n",
    "\n",
    "#Sex\n",
    "mapping_dict= {\"male\": 0,\n",
    "                 \"female\": 1}\n",
    "\n",
    "\n",
    "for i in data:\n",
    "    i['Sex'] = i['Sex'].map(mapping_dict)\n",
    "    \n",
    "    \n",
    "#Embarked\n",
    "mapping_dict = {\n",
    "           \"S\": 0, \n",
    "           \"C\": 1, \n",
    "           \"Q\": 2}\n",
    "\n",
    "for i in data:\n",
    "    i['Embarked'] = i['Embarked'].map(mapping_dict)\n",
    "    \n",
    "#Name\n",
    "mapping_dict={\n",
    "            \"Mr\": 0, \n",
    "            \"Miss\": 1,\n",
    "            \"Mrs\": 2, \n",
    "            \"Master\": 3,\n",
    "            \"Rare\": 4}\n",
    "for i in data:\n",
    "    i['Title'] = i['Title'].map(mapping_dict)\n",
    "    \n"
   ]
  },
  {
   "cell_type": "code",
   "execution_count": 36,
   "id": "2d384e9d-21b1-419c-978f-544b96a36ab7",
   "metadata": {},
   "outputs": [
    {
     "name": "stdout",
     "output_type": "stream",
     "text": [
      "<class 'pandas.core.frame.DataFrame'>\n",
      "RangeIndex: 891 entries, 0 to 890\n",
      "Data columns (total 9 columns):\n",
      " #   Column     Non-Null Count  Dtype  \n",
      "---  ------     --------------  -----  \n",
      " 0   Survived   891 non-null    int64  \n",
      " 1   Pclass     891 non-null    int64  \n",
      " 2   Sex        891 non-null    int64  \n",
      " 3   Age        891 non-null    float64\n",
      " 4   Fare       891 non-null    float64\n",
      " 5   Embarked   891 non-null    int64  \n",
      " 6   family     891 non-null    int64  \n",
      " 7   not_alone  891 non-null    float64\n",
      " 8   Title      891 non-null    int64  \n",
      "dtypes: float64(3), int64(6)\n",
      "memory usage: 62.8 KB\n"
     ]
    }
   ],
   "source": [
    "train_data.info()"
   ]
  },
  {
   "cell_type": "markdown",
   "id": "3ccde46e-53f8-4f36-b41c-4e7410195dfe",
   "metadata": {},
   "source": [
    "We conclude that all our features are numerics"
   ]
  },
  {
   "cell_type": "markdown",
   "id": "0f7f182c-7df3-4a3e-a82f-319673c79e38",
   "metadata": {},
   "source": [
    "## Data Modeling"
   ]
  },
  {
   "cell_type": "code",
   "execution_count": 37,
   "id": "6f914000-94c6-4cbd-b4e6-b63355bcbf06",
   "metadata": {},
   "outputs": [],
   "source": [
    "y = train_data['Survived']\n",
    "x = train_data.drop(['Survived'], axis = 1)"
   ]
  },
  {
   "cell_type": "code",
   "execution_count": 38,
   "id": "51e9cc90-6b03-4d0a-801f-ebb001186421",
   "metadata": {},
   "outputs": [],
   "source": [
    "x_train, x_test, y_train, y_test = train_test_split(x, y, test_size = 0.3, random_state=42)"
   ]
  },
  {
   "cell_type": "code",
   "execution_count": 39,
   "id": "18e4cb19-8072-4cbc-b77d-4bafe89fa8dc",
   "metadata": {},
   "outputs": [],
   "source": [
    "#LogisticRegression\n",
    "\n",
    "lr = LogisticRegression(max_iter=1000)\n",
    "lr.fit(x_train, y_train)\n",
    "y_pred_lr = lr.predict(x_test)"
   ]
  },
  {
   "cell_type": "code",
   "execution_count": 40,
   "id": "36e16d3c-1946-4c50-a580-356c7f8aaa42",
   "metadata": {},
   "outputs": [],
   "source": [
    "#RandomForestClassifier\n",
    "\n",
    "rf = RandomForestClassifier(n_estimators=90)\n",
    "rf.fit(x_train, y_train)\n",
    "y_pred_rf = rf.predict(x_test)"
   ]
  },
  {
   "cell_type": "markdown",
   "id": "504e0a93-e4cf-4328-8518-3a14450e56fe",
   "metadata": {},
   "source": [
    "## Model Evaluation\n",
    "\n",
    "Let's now evaluate our models"
   ]
  },
  {
   "cell_type": "code",
   "execution_count": 41,
   "id": "28b6281b-2d8a-4bf8-a309-cf84c7ac38b4",
   "metadata": {},
   "outputs": [
    {
     "name": "stdout",
     "output_type": "stream",
     "text": [
      "accuracy: 0.7985074626865671\n",
      "Mean Absolute Error: 0.20149253731343283\n",
      "Mean Squared Error: 0.20149253731343283\n",
      "Root Mean Squared Error: 0.4488792012484348\n"
     ]
    },
    {
     "data": {
      "text/plain": [
       "array([[131,  26],\n",
       "       [ 28,  83]], dtype=int64)"
      ]
     },
     "execution_count": 41,
     "metadata": {},
     "output_type": "execute_result"
    }
   ],
   "source": [
    "#LogisticRegression\n",
    "\n",
    "print('accuracy:',metrics.accuracy_score(y_test,y_pred_lr))\n",
    "print('Mean Absolute Error:', metrics.mean_absolute_error(y_test, y_pred_lr))  \n",
    "print('Mean Squared Error:', metrics.mean_squared_error(y_test, y_pred_lr))  \n",
    "print('Root Mean Squared Error:', np.sqrt(metrics.mean_squared_error(y_test, y_pred_lr)))\n",
    "metrics.confusion_matrix(y_test, y_pred_lr)"
   ]
  },
  {
   "cell_type": "code",
   "execution_count": 42,
   "id": "b8cc3674-1c98-4dbf-975c-9ba623876937",
   "metadata": {},
   "outputs": [
    {
     "name": "stdout",
     "output_type": "stream",
     "text": [
      "accuracy: 0.8097014925373134\n",
      "Mean Absolute Error: 0.19029850746268656\n",
      "Mean Squared Error: 0.19029850746268656\n",
      "Root Mean Squared Error: 0.436232171512701\n"
     ]
    },
    {
     "data": {
      "text/plain": [
       "array([[136,  21],\n",
       "       [ 30,  81]], dtype=int64)"
      ]
     },
     "execution_count": 42,
     "metadata": {},
     "output_type": "execute_result"
    }
   ],
   "source": [
    "#RandomForestClassifier\n",
    "\n",
    "print('accuracy:',metrics.accuracy_score(y_test,y_pred_rf))\n",
    "print('Mean Absolute Error:', metrics.mean_absolute_error(y_test, y_pred_rf))  \n",
    "print('Mean Squared Error:', metrics.mean_squared_error(y_test, y_pred_rf))  \n",
    "print('Root Mean Squared Error:', np.sqrt(metrics.mean_squared_error(y_test, y_pred_rf)))\n",
    "metrics.confusion_matrix(y_test, y_pred_rf)"
   ]
  },
  {
   "cell_type": "markdown",
   "id": "2c27d2d6-22de-44ed-9586-96e80cab8c27",
   "metadata": {},
   "source": [
    "We can observe that RandomForestClassifier and LogisticRegression are closed, but:\n",
    "   \n",
    "  -  RandomForestClassifier has the best value of MAE: \n",
    "  -  RandomForestClassifier has the best value of accuracy,\n",
    "  -  RandomForestClassifier has the best value of MSE,\n",
    "  -  RandomForestClassifier has the best value of RMSE,\n",
    " \n",
    "Based on model evaluatuin, we  consider the *RandomForestClassifier* model as the most efficient model.So,we gonna use the RandomForestClassifier model to predict the new data : test_data"
   ]
  },
  {
   "cell_type": "code",
   "execution_count": 43,
   "id": "01184c20-cd8f-4ced-82c4-6722c8d9f27b",
   "metadata": {},
   "outputs": [
    {
     "name": "stdout",
     "output_type": "stream",
     "text": [
      "Done!\n"
     ]
    }
   ],
   "source": [
    "# ==== final test prediction ====\n",
    "X_test = test_data.drop('PassengerId',axis=1)\n",
    "\n",
    "predictions = rf.predict(X_test)\n",
    "outputs = pd.DataFrame({'PassengerId': test_data.loc[:, 'PassengerId'], 'Survived': predictions})\n",
    "outputs.to_csv('s-s.csv', index=False)\n",
    "print('Done!')"
   ]
  },
  {
   "cell_type": "code",
   "execution_count": null,
   "id": "3e16a938-ddd4-49a0-9025-69b5f0bebccb",
   "metadata": {},
   "outputs": [],
   "source": []
  }
 ],
 "metadata": {
  "kernelspec": {
   "display_name": "Python 3 (ipykernel)",
   "language": "python",
   "name": "python3"
  },
  "language_info": {
   "codemirror_mode": {
    "name": "ipython",
    "version": 3
   },
   "file_extension": ".py",
   "mimetype": "text/x-python",
   "name": "python",
   "nbconvert_exporter": "python",
   "pygments_lexer": "ipython3",
   "version": "3.10.8"
  }
 },
 "nbformat": 4,
 "nbformat_minor": 5
}
