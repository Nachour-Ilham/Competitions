{
 "cells": [
  {
   "cell_type": "markdown",
   "id": "427daae7-52e1-418f-82d6-bc159e9ed0e0",
   "metadata": {},
   "source": [
    "<pre>\n",
    "<font color='red'>\n",
    "                                             Digit Recognizer Competition\n",
    "</font>\n",
    "</pre>"
   ]
  },
  {
   "cell_type": "markdown",
   "id": "62dd5c71-92d4-40d6-ad97-76760c5e455c",
   "metadata": {},
   "source": [
    "<pre>   \n",
    "\n",
    "                                                                        <span style='color:blue'> Author: </span> NACHOUR Ilham \n",
    "                                                                        \n",
    "</pre>"
   ]
  },
  {
   "cell_type": "markdown",
   "id": "d66d595f-babf-4912-ac73-e72fea212e68",
   "metadata": {},
   "source": [
    "**The goal in this competition is to take an image of a handwritten single digit, and determine what that digit is. So let's get started**"
   ]
  },
  {
   "cell_type": "markdown",
   "id": "7066fac0-ae30-4446-8527-6129d266dcda",
   "metadata": {},
   "source": [
    "## Importing the Libraries"
   ]
  },
  {
   "cell_type": "code",
   "execution_count": 1,
   "id": "7e7b07c7-a705-4175-afcd-ec36410d53f2",
   "metadata": {},
   "outputs": [],
   "source": [
    "#import required packages\n",
    "import pandas as pd\n",
    "import numpy as np\n",
    "\n",
    "import matplotlib.pyplot as plt\n",
    "\n",
    "from sklearn.model_selection import GridSearchCV,train_test_split\n",
    "\n",
    "from sklearn.neighbors import KNeighborsClassifier\n",
    "from sklearn.svm import SVC\n",
    "\n",
    "from sklearn import metrics\n"
   ]
  },
  {
   "cell_type": "markdown",
   "id": "65b24589-f875-41e1-a01f-a94e6eb0b0a1",
   "metadata": {},
   "source": [
    "## Loading test and training data"
   ]
  },
  {
   "cell_type": "code",
   "execution_count": 2,
   "id": "92024ecb-a838-4057-83e7-83fb28a6fb60",
   "metadata": {},
   "outputs": [],
   "source": [
    "train_data=pd.read_csv('train.csv')\n",
    "test_data=pd.read_csv('test.csv')"
   ]
  },
  {
   "cell_type": "markdown",
   "id": "fedd754b-5e2e-4f75-86b9-491ce779af80",
   "metadata": {},
   "source": [
    "First look to our data"
   ]
  },
  {
   "cell_type": "code",
   "execution_count": 3,
   "id": "a4a7ab23-80dc-4a64-bc85-786d7f0aba5b",
   "metadata": {},
   "outputs": [
    {
     "name": "stdout",
     "output_type": "stream",
     "text": [
      "----------------------------------------------------train data --------------------------------------------------------------\n"
     ]
    },
    {
     "data": {
      "text/html": [
       "<div>\n",
       "<style scoped>\n",
       "    .dataframe tbody tr th:only-of-type {\n",
       "        vertical-align: middle;\n",
       "    }\n",
       "\n",
       "    .dataframe tbody tr th {\n",
       "        vertical-align: top;\n",
       "    }\n",
       "\n",
       "    .dataframe thead th {\n",
       "        text-align: right;\n",
       "    }\n",
       "</style>\n",
       "<table border=\"1\" class=\"dataframe\">\n",
       "  <thead>\n",
       "    <tr style=\"text-align: right;\">\n",
       "      <th></th>\n",
       "      <th>label</th>\n",
       "      <th>pixel0</th>\n",
       "      <th>pixel1</th>\n",
       "      <th>pixel2</th>\n",
       "      <th>pixel3</th>\n",
       "      <th>pixel4</th>\n",
       "      <th>pixel5</th>\n",
       "      <th>pixel6</th>\n",
       "      <th>pixel7</th>\n",
       "      <th>pixel8</th>\n",
       "      <th>...</th>\n",
       "      <th>pixel774</th>\n",
       "      <th>pixel775</th>\n",
       "      <th>pixel776</th>\n",
       "      <th>pixel777</th>\n",
       "      <th>pixel778</th>\n",
       "      <th>pixel779</th>\n",
       "      <th>pixel780</th>\n",
       "      <th>pixel781</th>\n",
       "      <th>pixel782</th>\n",
       "      <th>pixel783</th>\n",
       "    </tr>\n",
       "  </thead>\n",
       "  <tbody>\n",
       "    <tr>\n",
       "      <th>0</th>\n",
       "      <td>1</td>\n",
       "      <td>0</td>\n",
       "      <td>0</td>\n",
       "      <td>0</td>\n",
       "      <td>0</td>\n",
       "      <td>0</td>\n",
       "      <td>0</td>\n",
       "      <td>0</td>\n",
       "      <td>0</td>\n",
       "      <td>0</td>\n",
       "      <td>...</td>\n",
       "      <td>0</td>\n",
       "      <td>0</td>\n",
       "      <td>0</td>\n",
       "      <td>0</td>\n",
       "      <td>0</td>\n",
       "      <td>0</td>\n",
       "      <td>0</td>\n",
       "      <td>0</td>\n",
       "      <td>0</td>\n",
       "      <td>0</td>\n",
       "    </tr>\n",
       "    <tr>\n",
       "      <th>1</th>\n",
       "      <td>0</td>\n",
       "      <td>0</td>\n",
       "      <td>0</td>\n",
       "      <td>0</td>\n",
       "      <td>0</td>\n",
       "      <td>0</td>\n",
       "      <td>0</td>\n",
       "      <td>0</td>\n",
       "      <td>0</td>\n",
       "      <td>0</td>\n",
       "      <td>...</td>\n",
       "      <td>0</td>\n",
       "      <td>0</td>\n",
       "      <td>0</td>\n",
       "      <td>0</td>\n",
       "      <td>0</td>\n",
       "      <td>0</td>\n",
       "      <td>0</td>\n",
       "      <td>0</td>\n",
       "      <td>0</td>\n",
       "      <td>0</td>\n",
       "    </tr>\n",
       "    <tr>\n",
       "      <th>2</th>\n",
       "      <td>1</td>\n",
       "      <td>0</td>\n",
       "      <td>0</td>\n",
       "      <td>0</td>\n",
       "      <td>0</td>\n",
       "      <td>0</td>\n",
       "      <td>0</td>\n",
       "      <td>0</td>\n",
       "      <td>0</td>\n",
       "      <td>0</td>\n",
       "      <td>...</td>\n",
       "      <td>0</td>\n",
       "      <td>0</td>\n",
       "      <td>0</td>\n",
       "      <td>0</td>\n",
       "      <td>0</td>\n",
       "      <td>0</td>\n",
       "      <td>0</td>\n",
       "      <td>0</td>\n",
       "      <td>0</td>\n",
       "      <td>0</td>\n",
       "    </tr>\n",
       "    <tr>\n",
       "      <th>3</th>\n",
       "      <td>4</td>\n",
       "      <td>0</td>\n",
       "      <td>0</td>\n",
       "      <td>0</td>\n",
       "      <td>0</td>\n",
       "      <td>0</td>\n",
       "      <td>0</td>\n",
       "      <td>0</td>\n",
       "      <td>0</td>\n",
       "      <td>0</td>\n",
       "      <td>...</td>\n",
       "      <td>0</td>\n",
       "      <td>0</td>\n",
       "      <td>0</td>\n",
       "      <td>0</td>\n",
       "      <td>0</td>\n",
       "      <td>0</td>\n",
       "      <td>0</td>\n",
       "      <td>0</td>\n",
       "      <td>0</td>\n",
       "      <td>0</td>\n",
       "    </tr>\n",
       "    <tr>\n",
       "      <th>4</th>\n",
       "      <td>0</td>\n",
       "      <td>0</td>\n",
       "      <td>0</td>\n",
       "      <td>0</td>\n",
       "      <td>0</td>\n",
       "      <td>0</td>\n",
       "      <td>0</td>\n",
       "      <td>0</td>\n",
       "      <td>0</td>\n",
       "      <td>0</td>\n",
       "      <td>...</td>\n",
       "      <td>0</td>\n",
       "      <td>0</td>\n",
       "      <td>0</td>\n",
       "      <td>0</td>\n",
       "      <td>0</td>\n",
       "      <td>0</td>\n",
       "      <td>0</td>\n",
       "      <td>0</td>\n",
       "      <td>0</td>\n",
       "      <td>0</td>\n",
       "    </tr>\n",
       "  </tbody>\n",
       "</table>\n",
       "<p>5 rows × 785 columns</p>\n",
       "</div>"
      ],
      "text/plain": [
       "   label  pixel0  pixel1  pixel2  pixel3  pixel4  pixel5  pixel6  pixel7  \\\n",
       "0      1       0       0       0       0       0       0       0       0   \n",
       "1      0       0       0       0       0       0       0       0       0   \n",
       "2      1       0       0       0       0       0       0       0       0   \n",
       "3      4       0       0       0       0       0       0       0       0   \n",
       "4      0       0       0       0       0       0       0       0       0   \n",
       "\n",
       "   pixel8  ...  pixel774  pixel775  pixel776  pixel777  pixel778  pixel779  \\\n",
       "0       0  ...         0         0         0         0         0         0   \n",
       "1       0  ...         0         0         0         0         0         0   \n",
       "2       0  ...         0         0         0         0         0         0   \n",
       "3       0  ...         0         0         0         0         0         0   \n",
       "4       0  ...         0         0         0         0         0         0   \n",
       "\n",
       "   pixel780  pixel781  pixel782  pixel783  \n",
       "0         0         0         0         0  \n",
       "1         0         0         0         0  \n",
       "2         0         0         0         0  \n",
       "3         0         0         0         0  \n",
       "4         0         0         0         0  \n",
       "\n",
       "[5 rows x 785 columns]"
      ]
     },
     "metadata": {},
     "output_type": "display_data"
    },
    {
     "name": "stdout",
     "output_type": "stream",
     "text": [
      "----------------------------------------------------test data ---------------------------------------------------------------\n"
     ]
    },
    {
     "data": {
      "text/html": [
       "<div>\n",
       "<style scoped>\n",
       "    .dataframe tbody tr th:only-of-type {\n",
       "        vertical-align: middle;\n",
       "    }\n",
       "\n",
       "    .dataframe tbody tr th {\n",
       "        vertical-align: top;\n",
       "    }\n",
       "\n",
       "    .dataframe thead th {\n",
       "        text-align: right;\n",
       "    }\n",
       "</style>\n",
       "<table border=\"1\" class=\"dataframe\">\n",
       "  <thead>\n",
       "    <tr style=\"text-align: right;\">\n",
       "      <th></th>\n",
       "      <th>pixel0</th>\n",
       "      <th>pixel1</th>\n",
       "      <th>pixel2</th>\n",
       "      <th>pixel3</th>\n",
       "      <th>pixel4</th>\n",
       "      <th>pixel5</th>\n",
       "      <th>pixel6</th>\n",
       "      <th>pixel7</th>\n",
       "      <th>pixel8</th>\n",
       "      <th>pixel9</th>\n",
       "      <th>...</th>\n",
       "      <th>pixel774</th>\n",
       "      <th>pixel775</th>\n",
       "      <th>pixel776</th>\n",
       "      <th>pixel777</th>\n",
       "      <th>pixel778</th>\n",
       "      <th>pixel779</th>\n",
       "      <th>pixel780</th>\n",
       "      <th>pixel781</th>\n",
       "      <th>pixel782</th>\n",
       "      <th>pixel783</th>\n",
       "    </tr>\n",
       "  </thead>\n",
       "  <tbody>\n",
       "    <tr>\n",
       "      <th>0</th>\n",
       "      <td>0</td>\n",
       "      <td>0</td>\n",
       "      <td>0</td>\n",
       "      <td>0</td>\n",
       "      <td>0</td>\n",
       "      <td>0</td>\n",
       "      <td>0</td>\n",
       "      <td>0</td>\n",
       "      <td>0</td>\n",
       "      <td>0</td>\n",
       "      <td>...</td>\n",
       "      <td>0</td>\n",
       "      <td>0</td>\n",
       "      <td>0</td>\n",
       "      <td>0</td>\n",
       "      <td>0</td>\n",
       "      <td>0</td>\n",
       "      <td>0</td>\n",
       "      <td>0</td>\n",
       "      <td>0</td>\n",
       "      <td>0</td>\n",
       "    </tr>\n",
       "    <tr>\n",
       "      <th>1</th>\n",
       "      <td>0</td>\n",
       "      <td>0</td>\n",
       "      <td>0</td>\n",
       "      <td>0</td>\n",
       "      <td>0</td>\n",
       "      <td>0</td>\n",
       "      <td>0</td>\n",
       "      <td>0</td>\n",
       "      <td>0</td>\n",
       "      <td>0</td>\n",
       "      <td>...</td>\n",
       "      <td>0</td>\n",
       "      <td>0</td>\n",
       "      <td>0</td>\n",
       "      <td>0</td>\n",
       "      <td>0</td>\n",
       "      <td>0</td>\n",
       "      <td>0</td>\n",
       "      <td>0</td>\n",
       "      <td>0</td>\n",
       "      <td>0</td>\n",
       "    </tr>\n",
       "    <tr>\n",
       "      <th>2</th>\n",
       "      <td>0</td>\n",
       "      <td>0</td>\n",
       "      <td>0</td>\n",
       "      <td>0</td>\n",
       "      <td>0</td>\n",
       "      <td>0</td>\n",
       "      <td>0</td>\n",
       "      <td>0</td>\n",
       "      <td>0</td>\n",
       "      <td>0</td>\n",
       "      <td>...</td>\n",
       "      <td>0</td>\n",
       "      <td>0</td>\n",
       "      <td>0</td>\n",
       "      <td>0</td>\n",
       "      <td>0</td>\n",
       "      <td>0</td>\n",
       "      <td>0</td>\n",
       "      <td>0</td>\n",
       "      <td>0</td>\n",
       "      <td>0</td>\n",
       "    </tr>\n",
       "    <tr>\n",
       "      <th>3</th>\n",
       "      <td>0</td>\n",
       "      <td>0</td>\n",
       "      <td>0</td>\n",
       "      <td>0</td>\n",
       "      <td>0</td>\n",
       "      <td>0</td>\n",
       "      <td>0</td>\n",
       "      <td>0</td>\n",
       "      <td>0</td>\n",
       "      <td>0</td>\n",
       "      <td>...</td>\n",
       "      <td>0</td>\n",
       "      <td>0</td>\n",
       "      <td>0</td>\n",
       "      <td>0</td>\n",
       "      <td>0</td>\n",
       "      <td>0</td>\n",
       "      <td>0</td>\n",
       "      <td>0</td>\n",
       "      <td>0</td>\n",
       "      <td>0</td>\n",
       "    </tr>\n",
       "    <tr>\n",
       "      <th>4</th>\n",
       "      <td>0</td>\n",
       "      <td>0</td>\n",
       "      <td>0</td>\n",
       "      <td>0</td>\n",
       "      <td>0</td>\n",
       "      <td>0</td>\n",
       "      <td>0</td>\n",
       "      <td>0</td>\n",
       "      <td>0</td>\n",
       "      <td>0</td>\n",
       "      <td>...</td>\n",
       "      <td>0</td>\n",
       "      <td>0</td>\n",
       "      <td>0</td>\n",
       "      <td>0</td>\n",
       "      <td>0</td>\n",
       "      <td>0</td>\n",
       "      <td>0</td>\n",
       "      <td>0</td>\n",
       "      <td>0</td>\n",
       "      <td>0</td>\n",
       "    </tr>\n",
       "  </tbody>\n",
       "</table>\n",
       "<p>5 rows × 784 columns</p>\n",
       "</div>"
      ],
      "text/plain": [
       "   pixel0  pixel1  pixel2  pixel3  pixel4  pixel5  pixel6  pixel7  pixel8  \\\n",
       "0       0       0       0       0       0       0       0       0       0   \n",
       "1       0       0       0       0       0       0       0       0       0   \n",
       "2       0       0       0       0       0       0       0       0       0   \n",
       "3       0       0       0       0       0       0       0       0       0   \n",
       "4       0       0       0       0       0       0       0       0       0   \n",
       "\n",
       "   pixel9  ...  pixel774  pixel775  pixel776  pixel777  pixel778  pixel779  \\\n",
       "0       0  ...         0         0         0         0         0         0   \n",
       "1       0  ...         0         0         0         0         0         0   \n",
       "2       0  ...         0         0         0         0         0         0   \n",
       "3       0  ...         0         0         0         0         0         0   \n",
       "4       0  ...         0         0         0         0         0         0   \n",
       "\n",
       "   pixel780  pixel781  pixel782  pixel783  \n",
       "0         0         0         0         0  \n",
       "1         0         0         0         0  \n",
       "2         0         0         0         0  \n",
       "3         0         0         0         0  \n",
       "4         0         0         0         0  \n",
       "\n",
       "[5 rows x 784 columns]"
      ]
     },
     "metadata": {},
     "output_type": "display_data"
    }
   ],
   "source": [
    "print('----------------------------------------------------train data --------------------------------------------------------------')\n",
    "display(train_data.head())\n",
    "print('----------------------------------------------------test data ---------------------------------------------------------------')\n",
    "display(test_data.head())"
   ]
  },
  {
   "cell_type": "markdown",
   "id": "5ec691f3-9352-40bb-a21c-533d7fe62e9b",
   "metadata": {},
   "source": [
    "## Data Exploration"
   ]
  },
  {
   "cell_type": "code",
   "execution_count": 4,
   "id": "b491b331-4f55-45f1-a179-a6b157088f62",
   "metadata": {},
   "outputs": [
    {
     "name": "stdout",
     "output_type": "stream",
     "text": [
      "Train data shape: (42000, 785)\n",
      "Test data shape: (28000, 784)\n"
     ]
    }
   ],
   "source": [
    "#check out the size of the data\n",
    "print('Train data shape:',train_data.shape)\n",
    "print('Test data shape:',test_data.shape)"
   ]
  },
  {
   "cell_type": "markdown",
   "id": "35053d36-0933-492c-be6f-adf6b40d7df0",
   "metadata": {},
   "source": [
    "The training-set has 42000 rows and 785 features,while test-set has 28000 rows and only 784 features,this is due to,the fact that the test data doesn't include the target column Label."
   ]
  },
  {
   "cell_type": "code",
   "execution_count": 5,
   "id": "28d17b4e-0227-4641-80c4-a3848641eda9",
   "metadata": {},
   "outputs": [
    {
     "name": "stdout",
     "output_type": "stream",
     "text": [
      "-------------------------------information about our training data-------------------------------------------------\n",
      "<class 'pandas.core.frame.DataFrame'>\n",
      "RangeIndex: 42000 entries, 0 to 41999\n",
      "Columns: 785 entries, label to pixel783\n",
      "dtypes: int64(785)\n",
      "memory usage: 251.5 MB\n",
      "None\n",
      "\n",
      "-------------------------------information about our test data------------------------------------------------------\n",
      "<class 'pandas.core.frame.DataFrame'>\n",
      "RangeIndex: 28000 entries, 0 to 27999\n",
      "Columns: 784 entries, pixel0 to pixel783\n",
      "dtypes: int64(784)\n",
      "memory usage: 167.5 MB\n",
      "None\n"
     ]
    }
   ],
   "source": [
    "print('-------------------------------information about our training data-------------------------------------------------')\n",
    "print(train_data.info())\n",
    "print()\n",
    "print('-------------------------------information about our test data------------------------------------------------------')\n",
    "print(test_data.info())"
   ]
  },
  {
   "cell_type": "markdown",
   "id": "c312c013-5202-4cee-a61d-5c3a22cca508",
   "metadata": {},
   "source": [
    "From the result above,all columns are numericals.let's check if there are some missing values in our training and test data"
   ]
  },
  {
   "cell_type": "code",
   "execution_count": 6,
   "id": "25632c2c-ac26-4525-b311-d6f378fbfd7c",
   "metadata": {},
   "outputs": [
    {
     "name": "stdout",
     "output_type": "stream",
     "text": [
      "The sum of missing values in training data : 0\n",
      "The sum of missing values in test data : 0\n"
     ]
    }
   ],
   "source": [
    "print('The sum of missing values in training data :',sum(train_data.isnull().sum()))\n",
    "print('The sum of missing values in test data :',sum(test_data.isnull().sum()))"
   ]
  },
  {
   "cell_type": "markdown",
   "id": "1ed1cdbe-b22e-4248-8460-e1fc231f4c57",
   "metadata": {},
   "source": [
    "As we see here,there aren't missing values in both of the data.Now,check if there are some duplicated rows"
   ]
  },
  {
   "cell_type": "code",
   "execution_count": 7,
   "id": "c6c42f17-2e65-4884-9df3-2a0126707905",
   "metadata": {},
   "outputs": [
    {
     "name": "stdout",
     "output_type": "stream",
     "text": [
      "Number of duplicate rows in train data : 0\n",
      "Number of duplicate rows in test data: 0\n"
     ]
    }
   ],
   "source": [
    "#check if there are duplicated values in data train and data test\n",
    "print('Number of duplicate rows in train data :',train_data.duplicated().sum())\n",
    "print('Number of duplicate rows in test data:',test_data.duplicated().sum())"
   ]
  },
  {
   "cell_type": "markdown",
   "id": "860e3a70-b259-45c3-88cf-95bf60496cf6",
   "metadata": {},
   "source": [
    "the same as the missing values,duplicated rows don't exist.So let move on to split our data and build our model"
   ]
  },
  {
   "cell_type": "markdown",
   "id": "12609ea6-1d54-4fd7-bd39-c910bbe7f852",
   "metadata": {},
   "source": [
    "## Data Modeling"
   ]
  },
  {
   "cell_type": "markdown",
   "id": "3fe4e221-d886-4d2f-8880-3f080539324a",
   "metadata": {},
   "source": [
    "First of all, it's necessary to transfrorm X and y en numpy.ndarray"
   ]
  },
  {
   "cell_type": "code",
   "execution_count": 8,
   "id": "0054f5ce-0598-4d0b-a041-0c1382de49b6",
   "metadata": {},
   "outputs": [
    {
     "data": {
      "text/plain": [
       "(numpy.ndarray, numpy.ndarray)"
      ]
     },
     "execution_count": 8,
     "metadata": {},
     "output_type": "execute_result"
    }
   ],
   "source": [
    "#Transformating X and Y en numpy.ndarray\n",
    "X = train_data.drop('label',axis=1).values\n",
    "y = train_data['label'].values\n",
    "type(X),type(y)"
   ]
  },
  {
   "cell_type": "markdown",
   "id": "b5981392-8067-48ba-bd70-223bf78ca1ee",
   "metadata": {},
   "source": [
    "Then,let's make some plot to visualize our data:"
   ]
  },
  {
   "cell_type": "code",
   "execution_count": 9,
   "id": "ed9ee2d9-5b4c-4caa-a2ae-7950423c040b",
   "metadata": {},
   "outputs": [
    {
     "name": "stdout",
     "output_type": "stream",
     "text": [
      "4\n"
     ]
    },
    {
     "data": {
      "image/png": "[encoded data removed]",
      "text/plain": [
       "<Figure size 640x480 with 1 Axes>"
      ]
     },
     "metadata": {},
     "output_type": "display_data"
    }
   ],
   "source": [
    "row = X[3]\n",
    "row_reshape = row.reshape((28, 28))\n",
    "row_image = plt.imshow(row_reshape)\n",
    "\n",
    "\n",
    "print(y[3])"
   ]
  },
  {
   "cell_type": "code",
   "execution_count": 10,
   "id": "d1565e99-67ac-41ba-9527-b33e69c61574",
   "metadata": {},
   "outputs": [
    {
     "name": "stdout",
     "output_type": "stream",
     "text": [
      "7\n"
     ]
    },
    {
     "data": {
      "image/png": "[encoded data removed]",
      "text/plain": [
       "<Figure size 640x480 with 1 Axes>"
      ]
     },
     "metadata": {},
     "output_type": "display_data"
    }
   ],
   "source": [
    "row = X[7635]\n",
    "row_reshape = row.reshape((28, 28))\n",
    "row_image = plt.imshow(row_reshape)\n",
    "\n",
    "\n",
    "print(y[7635])"
   ]
  },
  {
   "cell_type": "markdown",
   "id": "d84f6ca4-d0d1-4131-b164-2e113292ee27",
   "metadata": {},
   "source": [
    "Before fitting our KNN model ,we can use the sklearn GridSearchCV to perform a grid search to select the best hyperparams, using cross-validation.In this case, we will vary the number of neighbors:"
   ]
  },
  {
   "cell_type": "code",
   "execution_count": 11,
   "id": "d7ce9e4a-6350-4832-849e-c76de20a78bb",
   "metadata": {},
   "outputs": [
    {
     "name": "stdout",
     "output_type": "stream",
     "text": [
      "Fitting 5 folds for each of 9 candidates, totalling 45 fits\n",
      "[CV 1/5] END .....................n_neighbors=1;, score=0.966 total time=  13.1s\n",
      "[CV 2/5] END .....................n_neighbors=1;, score=0.968 total time=  12.8s\n",
      "[CV 3/5] END .....................n_neighbors=1;, score=0.963 total time=  12.4s\n",
      "[CV 4/5] END .....................n_neighbors=1;, score=0.967 total time=  12.5s\n",
      "[CV 5/5] END .....................n_neighbors=1;, score=0.967 total time=  13.7s\n",
      "[CV 1/5] END .....................n_neighbors=3;, score=0.970 total time=  14.5s\n",
      "[CV 2/5] END .....................n_neighbors=3;, score=0.967 total time=  12.9s\n",
      "[CV 3/5] END .....................n_neighbors=3;, score=0.963 total time=  13.0s\n",
      "[CV 4/5] END .....................n_neighbors=3;, score=0.964 total time=  12.3s\n",
      "[CV 5/5] END .....................n_neighbors=3;, score=0.969 total time=  12.6s\n",
      "[CV 1/5] END .....................n_neighbors=5;, score=0.968 total time=  14.4s\n",
      "[CV 2/5] END .....................n_neighbors=5;, score=0.966 total time=  14.3s\n",
      "[CV 3/5] END .....................n_neighbors=5;, score=0.963 total time=  18.5s\n",
      "[CV 4/5] END .....................n_neighbors=5;, score=0.963 total time=  16.4s\n",
      "[CV 5/5] END .....................n_neighbors=5;, score=0.969 total time=  16.6s\n",
      "[CV 1/5] END .....................n_neighbors=7;, score=0.965 total time=  18.0s\n",
      "[CV 2/5] END .....................n_neighbors=7;, score=0.965 total time=  17.5s\n",
      "[CV 3/5] END .....................n_neighbors=7;, score=0.962 total time=  21.7s\n",
      "[CV 4/5] END .....................n_neighbors=7;, score=0.963 total time=  17.3s\n",
      "[CV 5/5] END .....................n_neighbors=7;, score=0.968 total time=  17.6s\n",
      "[CV 1/5] END .....................n_neighbors=9;, score=0.964 total time=  15.8s\n",
      "[CV 2/5] END .....................n_neighbors=9;, score=0.965 total time=  15.9s\n",
      "[CV 3/5] END .....................n_neighbors=9;, score=0.961 total time=  16.9s\n",
      "[CV 4/5] END .....................n_neighbors=9;, score=0.960 total time=  15.7s\n",
      "[CV 5/5] END .....................n_neighbors=9;, score=0.967 total time=  15.2s\n",
      "[CV 1/5] END ....................n_neighbors=11;, score=0.962 total time=  16.1s\n",
      "[CV 2/5] END ....................n_neighbors=11;, score=0.963 total time=  14.1s\n",
      "[CV 3/5] END ....................n_neighbors=11;, score=0.959 total time=  14.2s\n",
      "[CV 4/5] END ....................n_neighbors=11;, score=0.961 total time=  14.4s\n",
      "[CV 5/5] END ....................n_neighbors=11;, score=0.963 total time=  15.9s\n",
      "[CV 1/5] END ....................n_neighbors=13;, score=0.962 total time=  14.2s\n",
      "[CV 2/5] END ....................n_neighbors=13;, score=0.962 total time=  16.1s\n",
      "[CV 3/5] END ....................n_neighbors=13;, score=0.958 total time=  16.5s\n",
      "[CV 4/5] END ....................n_neighbors=13;, score=0.960 total time=  17.5s\n",
      "[CV 5/5] END ....................n_neighbors=13;, score=0.961 total time=  14.0s\n",
      "[CV 1/5] END ....................n_neighbors=15;, score=0.959 total time=  14.7s\n",
      "[CV 2/5] END ....................n_neighbors=15;, score=0.961 total time=  15.1s\n",
      "[CV 3/5] END ....................n_neighbors=15;, score=0.957 total time=  16.6s\n",
      "[CV 4/5] END ....................n_neighbors=15;, score=0.959 total time=  15.0s\n",
      "[CV 5/5] END ....................n_neighbors=15;, score=0.960 total time=  15.7s\n",
      "[CV 1/5] END ....................n_neighbors=17;, score=0.957 total time=  15.1s\n",
      "[CV 2/5] END ....................n_neighbors=17;, score=0.958 total time=  13.4s\n",
      "[CV 3/5] END ....................n_neighbors=17;, score=0.955 total time=  15.2s\n",
      "[CV 4/5] END ....................n_neighbors=17;, score=0.958 total time=  16.0s\n",
      "[CV 5/5] END ....................n_neighbors=17;, score=0.959 total time=  15.7s\n",
      "Best params: {'n_neighbors': 3}\n",
      "Best cross-validation score: 0.9666904761904762\n"
     ]
    }
   ],
   "source": [
    "#Only odd numbers, to prevent ties\n",
    "param_grid = {\"n_neighbors\": range(1, 18, 2)}\n",
    "knn = KNeighborsClassifier()\n",
    "\n",
    "# Perform grid search with cross-validation\n",
    "gscv = GridSearchCV(knn,\n",
    "                    param_grid,\n",
    "                    cv=5,\n",
    "                    verbose=3)\n",
    "gscv.fit(X, y)\n",
    "\n",
    "\n",
    "print(\"Best params:\", gscv.best_params_)\n",
    "print(\"Best cross-validation score:\", gscv.best_score_)"
   ]
  },
  {
   "cell_type": "markdown",
   "id": "f9b4b9f4-6dd1-47eb-9428-710249d0ba86",
   "metadata": {},
   "source": [
    "We have obtained the greatest mean accuracy using 3 neighbors. The following figure shows the score depending on the number of neighbors"
   ]
  },
  {
   "cell_type": "code",
   "execution_count": 12,
   "id": "8234dd25-7c2b-4609-b7ec-23823c7c5c38",
   "metadata": {},
   "outputs": [
    {
     "data": {
      "text/plain": [
       "(0.9, 1.0)"
      ]
     },
     "execution_count": 12,
     "metadata": {},
     "output_type": "execute_result"
    },
    {
     "data": {
      "image/png": "[encoded data removed]",
      "text/plain": [
       "<Figure size 640x480 with 1 Axes>"
      ]
     },
     "metadata": {},
     "output_type": "display_data"
    }
   ],
   "source": [
    "fig = plt.figure()\n",
    "ax = fig.add_subplot(1, 1, 1)\n",
    "ax.bar(param_grid[\"n_neighbors\"], gscv.cv_results_[\"mean_test_score\"])\n",
    "ax.set_xticks(param_grid[\"n_neighbors\"])\n",
    "ax.set_ylabel(\"Number of Neighbors\")\n",
    "ax.set_xlabel(\"Cross-validation score\")\n",
    "ax.set_ylim((0.9, 1))"
   ]
  },
  {
   "cell_type": "code",
   "execution_count": 13,
   "id": "1331c2dc-50b4-4ac8-ab82-1b1aeda10e8c",
   "metadata": {},
   "outputs": [],
   "source": [
    "#split the training data \n",
    "X_train,X_test,y_train,y_test=train_test_split(X,y,test_size=0.20,random_state=0)"
   ]
  },
  {
   "cell_type": "markdown",
   "id": "23bc71ed-2485-42ec-a718-86f5ff84b8b2",
   "metadata": {},
   "source": [
    "## Model Fitting\n",
    "\n",
    "For this problem, we choose to work with KNN as the baseline model, and SVC (SVM) as a comparatif model"
   ]
  },
  {
   "cell_type": "code",
   "execution_count": 14,
   "id": "9ad73b5f-e33a-4119-aac5-40290fd3d9ee",
   "metadata": {},
   "outputs": [],
   "source": [
    "#KNeighborsClassifier\n",
    "knn_model = KNeighborsClassifier(n_neighbors = 3)\n",
    "knn_model.fit(X_train, y_train)\n",
    "y_pred_knn=knn_model.predict(X_test)"
   ]
  },
  {
   "cell_type": "code",
   "execution_count": 15,
   "id": "9b34dc75-a342-4f0e-a4cd-58ea41d4e82d",
   "metadata": {},
   "outputs": [],
   "source": [
    "#SVC\n",
    "svc = SVC(kernel='poly', degree=2)\n",
    "svc.fit(X_train, y_train)\n",
    "y_pred_svc = svc.predict(X_test)"
   ]
  },
  {
   "cell_type": "markdown",
   "id": "fa667c49-ba91-4f22-9f6b-03a074e4f3d3",
   "metadata": {},
   "source": [
    "## Model Evaluation\n",
    "\n",
    "Let's now evaluate our models"
   ]
  },
  {
   "cell_type": "code",
   "execution_count": 16,
   "id": "7e90e62a-6ff7-43cc-817b-2ac0f4364a28",
   "metadata": {},
   "outputs": [
    {
     "name": "stdout",
     "output_type": "stream",
     "text": [
      "---------------------------------------------KNN---------------------------------------------\n",
      "accuracy: 0.9697619047619047\n",
      "Mean Absolute Error: 0.11714285714285715\n",
      "Mean Squared Error: 0.5742857142857143\n",
      "Root Mean Squared Error: 0.7578164119928482\n"
     ]
    }
   ],
   "source": [
    "print('---------------------------------------------KNN---------------------------------------------')\n",
    "print('accuracy:',metrics.accuracy_score(y_test,y_pred_knn))\n",
    "print('Mean Absolute Error:', metrics.mean_absolute_error(y_test, y_pred_knn))  \n",
    "print('Mean Squared Error:', metrics.mean_squared_error(y_test, y_pred_knn))  \n",
    "print('Root Mean Squared Error:', np.sqrt(metrics.mean_squared_error(y_test, y_pred_knn)))"
   ]
  },
  {
   "cell_type": "code",
   "execution_count": 17,
   "id": "41e73282-554a-4c16-b523-0dbbb518905b",
   "metadata": {},
   "outputs": [
    {
     "name": "stdout",
     "output_type": "stream",
     "text": [
      "---------------------------------------------SVC---------------------------------------------\n",
      "accuracy: 0.9727380952380953\n",
      "Mean Absolute Error: 0.1025\n",
      "Mean Squared Error: 0.511547619047619\n",
      "Root Mean Squared Error: 0.7152255721432358\n"
     ]
    }
   ],
   "source": [
    "print('---------------------------------------------SVC---------------------------------------------')\n",
    "print('accuracy:',metrics.accuracy_score(y_test,y_pred_svc))\n",
    "print('Mean Absolute Error:', metrics.mean_absolute_error(y_test, y_pred_svc))  \n",
    "print('Mean Squared Error:', metrics.mean_squared_error(y_test, y_pred_svc))  \n",
    "print('Root Mean Squared Error:', np.sqrt(metrics.mean_squared_error(y_test, y_pred_svc)))"
   ]
  },
  {
   "cell_type": "markdown",
   "id": "4ea86aaa-d60d-4bdb-ac42-6d1d4f08ac00",
   "metadata": {},
   "source": [
    "We can observe that KNN and SVC are closed, but:\n",
    "   \n",
    "  -  SVC has the best value of MAE: \n",
    "  -  SVC has the best value of accuracy,\n",
    "  -  SVC has the best value of MSE,\n",
    "  -  SVC has the best value of RMSE,\n",
    " \n",
    "Based on model evaluatuin, we  consider the *SVC* model as the most efficient model.So,we gonna use the SVC model to predict the new data : test_data"
   ]
  },
  {
   "cell_type": "code",
   "execution_count": 18,
   "id": "2c4f0e38-ad5c-4fd1-90d4-2d7475195306",
   "metadata": {},
   "outputs": [
    {
     "name": "stderr",
     "output_type": "stream",
     "text": [
      "C:\\Users\\pc\\AppData\\Local\\Programs\\Python\\Python310\\lib\\site-packages\\sklearn\\base.py:402: UserWarning: X has feature names, but SVC was fitted without feature names\n",
      "  warnings.warn(\n",
      "C:\\Users\\pc\\AppData\\Local\\Programs\\Python\\Python310\\lib\\site-packages\\sklearn\\base.py:402: UserWarning: X has feature names, but SVC was fitted without feature names\n",
      "  warnings.warn(\n"
     ]
    }
   ],
   "source": [
    "# save submission to csv\n",
    "\n",
    "pd.DataFrame({\"ImageId\": list(range(1,len(svc.predict(test_data))+1)),\n",
    "              \"Label\": svc.predict(test_data)}).to_csv('Digit_Recogniser.csv', index=False,header=True)"
   ]
  }
 ],
 "metadata": {
  "kernelspec": {
   "display_name": "Python 3 (ipykernel)",
   "language": "python",
   "name": "python3"
  },
  "language_info": {
   "codemirror_mode": {
    "name": "ipython",
    "version": 3
   },
   "file_extension": ".py",
   "mimetype": "text/x-python",
   "name": "python",
   "nbconvert_exporter": "python",
   "pygments_lexer": "ipython3",
   "version": "3.10.8"
  }
 },
 "nbformat": 4,
 "nbformat_minor": 5
}
